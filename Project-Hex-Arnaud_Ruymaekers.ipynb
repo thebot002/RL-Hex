{
 "cells": [
  {
   "cell_type": "markdown",
   "id": "243640d2-a8aa-49d5-9e87-7da1a924451b",
   "metadata": {
    "jp-MarkdownHeadingCollapsed": true,
    "tags": []
   },
   "source": [
    "### Imports"
   ]
  },
  {
   "cell_type": "code",
   "execution_count": 84,
   "id": "36ba28d2-320d-43c3-a1a0-3092b5c3208c",
   "metadata": {},
   "outputs": [],
   "source": [
    "from tkinter import *\n",
    "from tkinter.messagebox import askyesno\n",
    "from queue import Queue\n",
    "from tqdm.notebook import tqdm\n",
    "from termcolor import colored\n",
    "from matplotlib import pyplot as plt\n",
    "\n",
    "from tensorflow.keras import Model, models\n",
    "from tensorflow.keras.layers import Layer\n",
    "from tensorflow.keras.layers import Input\n",
    "from tensorflow.keras.layers import MaxPool2D\n",
    "from tensorflow.keras.layers import Conv2D, concatenate, LeakyReLU\n",
    "from tensorflow.keras.layers import Dense, Flatten\n",
    "from tensorflow.keras.activations import sigmoid\n",
    "\n",
    "import time\n",
    "import numpy as np\n",
    "import tensorflow as tf\n",
    "import random\n",
    "import copy\n",
    "\n",
    "EPS = np.finfo(float).eps"
   ]
  },
  {
   "cell_type": "code",
   "execution_count": 2,
   "id": "b5526cfb-44b2-4ed0-8d2e-be3672482d19",
   "metadata": {},
   "outputs": [],
   "source": [
    "class PriorityQueue:\n",
    "    def __init__(self):\n",
    "        self.queue = {}\n",
    "        self.lowest_prio = None\n",
    "        \n",
    "    def empty(self):\n",
    "        return len(self.queue) == 0\n",
    "        \n",
    "    def put(self, item):\n",
    "        self.queue[item[1]] = item\n",
    "        if not self.lowest_prio or item < self.lowest_prio:\n",
    "            self.lowest_prio = item\n",
    "        \n",
    "    def get(self):\n",
    "        if self.lowest_prio is not None:\n",
    "            item = self.lowest_prio\n",
    "            self.lowest_prio = None\n",
    "        else:\n",
    "            item = min(self.queue.values())\n",
    "            \n",
    "        del self.queue[item[1]]\n",
    "        return item[1]\n",
    "    \n",
    "    def remove(self, item):\n",
    "        if self.lowest_prio is not None and self.lowest_prio[1] == item:\n",
    "            self.lowest_prio = None\n",
    "        del self.queue[item]\n",
    "    \n",
    "    def __contains__(self, item):\n",
    "        return item in self.queue.keys()"
   ]
  },
  {
   "cell_type": "markdown",
   "id": "6938465b-c213-4090-a676-053a1839a6b8",
   "metadata": {},
   "source": [
    "# Project - Hex game\n",
    "\n",
    "---\n",
    "\n",
    "101804 - Advanced Machine Learning\n",
    "\n",
    "Laurea Magistrale - Computer science\n",
    "\n",
    "Artificial Intelligence Track\n",
    "\n",
    "University of Genova\n",
    "\n",
    "---\n",
    "\n",
    "Instructors:\n",
    "\n",
    "- Noceti Nicoletta\n",
    "- Rosasco Lorenzo\n",
    "- Barla Annalisa\n",
    "- Verri Alessandro\n",
    "\n",
    "---\n",
    "\n",
    "Student: Arnaud Ruymaekers, S5298338\n",
    "\n",
    "---\n",
    "\n",
    "Project pitch:\n",
    "\n",
    "I was thinking to pick the \"infinite state and infinite action\" Reinforcement learning project. For this I was interested in implementing an agent for the game Hex (https://en.wikipedia.org/wiki/Hex_(board_game)) so as to push further the concepts seen for the tick tac toe lab."
   ]
  },
  {
   "cell_type": "markdown",
   "id": "1c8c7c6e-86da-4a69-af53-804ba7c0db0d",
   "metadata": {},
   "source": [
    "## 0) Introduction"
   ]
  },
  {
   "cell_type": "markdown",
   "id": "e275b5a8-9216-4ada-8f4e-3d21a204fc5f",
   "metadata": {},
   "source": [
    "In this project, I will explore build an Agent able to play the board game Hex.\n",
    "\n",
    "Hex is 2 player where the goal is to link it's assigned two sides of the field. On interesting challenge about this game is that, due to the hexagonal architecture of the grid, there will always be a winner and a looser, there is no ties. It is usually played on a 11 by 11 or 13 by 13 board, which is a state space larger than the one of chess.\n",
    "\n",
    "<img src=\"hex.png\">\n",
    "\n",
    "I will explore the building of the agents we built in class to this board-game. I will first build a trivial random play agent that will be used to play against other agents. Following this I will build a Minimax Agent with a limited search depth. Then, getting into reinforcement learning, I will build a TQ-learning agent. And finally I will a deep-Q learning agent."
   ]
  },
  {
   "cell_type": "markdown",
   "id": "65d417ad-750f-4773-8a60-8d50f1e318ea",
   "metadata": {
    "tags": []
   },
   "source": [
    "## 1) Base Classes setup"
   ]
  },
  {
   "cell_type": "code",
   "execution_count": 3,
   "id": "c5e4a723-77d8-45a7-a768-5888ea4fd8a1",
   "metadata": {},
   "outputs": [],
   "source": [
    "TILE_COLORS = {\n",
    "    -2: 'dark grey',\n",
    "    -1: 'grey',\n",
    "     1: 'red',\n",
    "     2: 'blue'\n",
    "}"
   ]
  },
  {
   "cell_type": "markdown",
   "id": "685cf8d5-cedf-4a39-9d74-07cb89652750",
   "metadata": {
    "tags": []
   },
   "source": [
    "### 1.1) Base player classes"
   ]
  },
  {
   "cell_type": "code",
   "execution_count": 4,
   "id": "6a98943d-9a94-421e-8450-eaa8ac8d8b9f",
   "metadata": {},
   "outputs": [],
   "source": [
    "# Player variables\n",
    "PLAYER1 = 1\n",
    "PLAYER2 = 2\n",
    "\n",
    "OTHER_PLAYER = {\n",
    "    PLAYER1: PLAYER2,\n",
    "    PLAYER2: PLAYER1\n",
    "}"
   ]
  },
  {
   "cell_type": "code",
   "execution_count": 5,
   "id": "b15db75b-6402-4873-8937-164827f12675",
   "metadata": {},
   "outputs": [],
   "source": [
    "# Abstraction of the player\n",
    "class Player:\n",
    "    def __init__(self, side):\n",
    "        self.side = side\n",
    "        self.other_side = OTHER_PLAYER[self.side]\n",
    "        \n",
    "    # Function to run for a player at each game start to allow the player to potentially set variables or run actions\n",
    "    def start_game(self):\n",
    "        pass\n",
    "        \n",
    "    # Given a move, it returns the result of the move and if the game is finished \n",
    "    # i.e. a tuple (GameResult,bool)\n",
    "    def move(self, grid):\n",
    "        pass\n",
    "    \n",
    "    # Function to run potential finalization actions after the game is wrapped up\n",
    "    def finalize(self, winner):\n",
    "        pass"
   ]
  },
  {
   "cell_type": "code",
   "execution_count": 6,
   "id": "55cf8253-e59a-4746-a12e-8135944a9f9e",
   "metadata": {},
   "outputs": [],
   "source": [
    "class ManualPlayer(Player):\n",
    "    pass"
   ]
  },
  {
   "cell_type": "code",
   "execution_count": 7,
   "id": "7d4deb35-a36e-4675-8e57-0019f7740c6b",
   "metadata": {},
   "outputs": [],
   "source": [
    "PLAYER_CLASSES = {\n",
    "    'Manual': ManualPlayer\n",
    "}"
   ]
  },
  {
   "cell_type": "markdown",
   "id": "b11d0d87-89f4-43b4-a8d3-343279f5f625",
   "metadata": {
    "tags": []
   },
   "source": [
    "### 1.2) Game classes"
   ]
  },
  {
   "cell_type": "markdown",
   "id": "81ad3d46-0b16-449c-b872-68c3278356db",
   "metadata": {
    "tags": []
   },
   "source": [
    "#### 1.2.1) Variables"
   ]
  },
  {
   "cell_type": "code",
   "execution_count": 8,
   "id": "b4bb0c53-2f47-4624-b988-b5e57afe4665",
   "metadata": {},
   "outputs": [],
   "source": [
    "# Tile status\n",
    "HOVERED = -2\n",
    "EMPTY = -1\n",
    "\n",
    "# Game status\n",
    "STOPPED = 0\n",
    "STARTED = 1\n",
    "FINISHED = 2\n",
    "\n",
    "GAME_SPEEDS = {\n",
    "    'Slow': 2000,\n",
    "    'Normal': 1000,\n",
    "    'Fast': 100,\n",
    "    'Instant': 10\n",
    "}\n",
    "\n",
    "HEX_DIRECTIONS = [( 1,0), ( 1,-1), (0,-1),\n",
    "                  (-1,0), (-1, 1), (0, 1)]"
   ]
  },
  {
   "cell_type": "markdown",
   "id": "d98e05fb-940a-4d66-a604-620d83f2c943",
   "metadata": {
    "tags": []
   },
   "source": [
    "#### 1.2.2) HexTile"
   ]
  },
  {
   "cell_type": "code",
   "execution_count": 118,
   "id": "86fbe91c-79da-4483-96bf-1be5f99cdefb",
   "metadata": {},
   "outputs": [],
   "source": [
    "class HexTile:\n",
    "    def __init__(self, x:int, y:int, grid:'HexGrid', status:int=EMPTY) -> None:\n",
    "        self.x: int = x\n",
    "        self.y: int = y\n",
    "        self.id: int = int((y*grid.size)+x)\n",
    "        self.grid: 'HexGrid' = grid\n",
    "        self._status: int = status\n",
    "        self.neighbours: list['HexTile'] = []\n",
    "        self.player_neighbours: dict[int, list['HexTile']] = {EMPTY: [], PLAYER1: [], PLAYER2: []}\n",
    "        \n",
    "        # Variables for shortest path finding for each player\n",
    "        self.g_value: dict[int] = { # Shortest path from edge x(or y)=0\n",
    "            PLAYER1: y+1,\n",
    "            PLAYER2: x+1\n",
    "        }\n",
    "        self.rhs_value: dict[int] = { # Lookahead value based on on predecessor's tile\n",
    "            PLAYER1: y+1,\n",
    "            PLAYER2: x+1\n",
    "        }\n",
    "        self.comes_from = {\n",
    "            PLAYER1: None,\n",
    "            PLAYER2: None\n",
    "        }\n",
    "    \n",
    "    \n",
    "    @property\n",
    "    def status(self) -> int:\n",
    "        return self._status\n",
    "    \n",
    "    \n",
    "    @status.setter\n",
    "    def status(self, new_status:int) -> None:\n",
    "        assert self.status == EMPTY\n",
    "        \n",
    "        # Update to the grids sets\n",
    "        self.grid.status_tiles[self._status].remove(self)\n",
    "        self.grid.status_tiles[new_status].append(self)\n",
    "        if new_status in [PLAYER1, PLAYER2] and self in self.grid.end_edge_tiles[new_status]:\n",
    "            self.grid.claimed_end_edge_tiles[new_status].append(self)\n",
    "                        \n",
    "        if new_status in [PLAYER1, PLAYER2]:\n",
    "            self.grid.state_array[self.x, self.y] = new_status\n",
    "            \n",
    "        # Update state channels of the grid\n",
    "        if new_status == PLAYER1:\n",
    "            self.grid.state_channels[self.y, self.x, 0] = 1\n",
    "            \n",
    "            # Check bottom-left neighbour status\n",
    "            if (self.y-1) >= 0 and (self.x+1) <= (self.grid.size-1) and self.grid.state_channels[self.y-1, self.x+1, 0] == 1:\n",
    "                self.grid.state_channels[self.y, self.x, 2] = 1 # Bottom-left connection of current tile\n",
    "                self.grid.state_channels[self.y-1, self.x+1, 3] = 1 # Top-right connection of bottom-left tile\n",
    "                \n",
    "            # Check top-right neighbour status\n",
    "            if (self.x-1) >= 0 and (self.y+1) <= (self.grid.size-1) and self.grid.state_channels[self.y+1, self.x-1, 0] == 1:\n",
    "                self.grid.state_channels[self.y, self.x, 3] = 1 # Top-right connection of current tile\n",
    "                self.grid.state_channels[self.y+1, self.x-1, 2] = 1 # Bottom-left connection of current tile\n",
    "            \n",
    "        elif new_status == PLAYER2:\n",
    "            self.grid.state_channels[self.y, self.x, 1] = 1\n",
    "            \n",
    "            # Check bottom-left neighbour status\n",
    "            if (self.y-1) >= 0 and (self.x+1) <= (self.grid.size-1) and self.grid.state_channels[self.y-1, self.x+1, 1] == 1:\n",
    "                self.grid.state_channels[self.y, self.x, 4] = 1 # Bottom-left connection of current tile\n",
    "                self.grid.state_channels[self.y-1, self.x+1, 5] = 1 # Top-right connection of bottom-left tile\n",
    "                \n",
    "            # Check top-right neighbour status\n",
    "            if (self.x-1) >= 0 and (self.y+1) <= (self.grid.size-1) and self.grid.state_channels[self.y+1, self.x-1, 1] == 1:\n",
    "                self.grid.state_channels[self.y, self.x, 5] = 1 # Top-right connection of current tile\n",
    "                self.grid.state_channels[self.y+1, self.x-1, 4] = 1 # Bottom-left connection of current tile\n",
    "\n",
    "        # tile status update\n",
    "        self._status = new_status\n",
    "        \n",
    "        if new_status in [PLAYER1, PLAYER2]:\n",
    "            # update neighbour tiles sets\n",
    "            for neighbour in self.neighbours:\n",
    "                neighbour.player_neighbours[EMPTY].remove(self)\n",
    "                neighbour.player_neighbours[new_status].append(self)\n",
    "                \n",
    "            for player in [PLAYER1, PLAYER2]:\n",
    "                self.grid.update_node(player, self)\n",
    "                self.grid.expand_nodes(player)\n",
    "    \n",
    "    \n",
    "    def __lt__(self, other):\n",
    "        return self.id < other.id\n",
    "    \n",
    "\n",
    "    def __repr__(self):\n",
    "        return f'<HexTile at (x={self.x}, y={self.y})>'"
   ]
  },
  {
   "cell_type": "markdown",
   "id": "13e16b38-0c29-4b6f-af7f-d977402ba16d",
   "metadata": {
    "tags": []
   },
   "source": [
    "#### 1.2.3) HexGrid"
   ]
  },
  {
   "cell_type": "code",
   "execution_count": 103,
   "id": "b3f2a349-7855-4b83-a8eb-488610c06a50",
   "metadata": {},
   "outputs": [],
   "source": [
    "class HexGrid:\n",
    "    def __init__(self, size):\n",
    "        self.size = size\n",
    "        self.turn_number = 0\n",
    "        self.state_array = np.zeros((size, size))\n",
    "        \n",
    "        # Channels arrays\n",
    "        self.state_channels = np.zeros((size, size, 6))\n",
    "        \n",
    "        # Tile generation\n",
    "        self.tiles = []\n",
    "        for y in range(size):\n",
    "            for x in range(size):\n",
    "                self.tiles.append(HexTile(x,y,self))\n",
    "        \n",
    "        # Linking each tile to its neighbours\n",
    "        for tile in self.tiles:\n",
    "            for d in HEX_DIRECTIONS:\n",
    "                new_x = tile.x + d[0]\n",
    "                new_y = tile.y + d[1]\n",
    "\n",
    "                # Only take coordinates in the grid\n",
    "                if (0 <= new_x < self.size) and (0 <= new_y < self.size):\n",
    "                    neighbour = self.get_tile(new_x, new_y)\n",
    "                    tile.neighbours.append(neighbour)\n",
    "                    tile.player_neighbours[EMPTY].append(neighbour)\n",
    "                    \n",
    "        # Making status tile dictionary\n",
    "        self.status_tiles = {\n",
    "            HOVERED: [],\n",
    "            EMPTY: [tile for tile in self.tiles],\n",
    "            PLAYER1: [],\n",
    "            PLAYER2: []\n",
    "        }\n",
    "        \n",
    "        # Making player edge tiles dictionaries\n",
    "        self.start_edge_tiles = {}\n",
    "        self.end_edge_tiles = {}\n",
    "        self.claimed_end_edge_tiles = {}\n",
    "        \n",
    "        # Shortest path queue\n",
    "        self.exploration_queue = {}\n",
    "        \n",
    "        # Shortest recorded distances\n",
    "        self.shortest_dist = {}\n",
    "        \n",
    "        # Populating dictionaries\n",
    "        for player in [PLAYER1, PLAYER2]:\n",
    "            self.start_edge_tiles[player] = [tile for tile in self.tiles if (tile.y == 0 and player == PLAYER1) or (tile.x == 0 and player == PLAYER2)]\n",
    "            self.end_edge_tiles[player] = [tile for tile in self.tiles if (tile.y == (self.size - 1) and player == PLAYER1) or (tile.x == (self.size - 1) and player == PLAYER2)]\n",
    "            self.claimed_end_edge_tiles[player] = []\n",
    "            self.exploration_queue[player] = PriorityQueue()\n",
    "            self.shortest_dist[player] = 11\n",
    "            \n",
    "            for tile in self.tiles:\n",
    "                if tile not in self.start_edge_tiles[player]:\n",
    "                    tile.comes_from[player] = self.get_tile(tile.x, tile.y-1) if player == PLAYER1 else self.get_tile(tile.x-1, tile.y)\n",
    "\n",
    "    \n",
    "    def get_tile(self, x:int, y:int) -> HexTile:\n",
    "        return self.tiles[int((y*self.size)+x)]\n",
    "    \n",
    "    \n",
    "    @property\n",
    "    def empty_tiles(self) -> list[HexTile]:\n",
    "        return self.status_tiles[EMPTY]\n",
    "    \n",
    "    \n",
    "    def get_player_tiles(self, player:int) -> list[HexTile]:\n",
    "        return self.status_tiles[player]\n",
    "    \n",
    "    \n",
    "    def expand_nodes(self, player:int) -> None:\n",
    "        explored_nodes = set()\n",
    "        while not self.exploration_queue[player].empty():\n",
    "            current_node = self.exploration_queue[player].get()\n",
    "            explored_nodes.add(current_node)\n",
    "            \n",
    "            if current_node.rhs_value[player] < current_node.g_value[player]: # Overconsistant node\n",
    "                current_node.g_value[player] = current_node.rhs_value[player]\n",
    "                \n",
    "            else: # Underconsistant node\n",
    "                current_node.g_value[player] = np.inf\n",
    "                self.update_node(player, current_node)\n",
    "                \n",
    "            for neighbour_node in current_node.neighbours:\n",
    "                self.update_node(player, neighbour_node)\n",
    "        \n",
    "        # Update of the shortest distance variables\n",
    "        self.shortest_dist[player] = min([tile.g_value[player] for tile in self.end_edge_tiles[player]])\n",
    "        \n",
    "        # Only update path for tiles that have been re-explored\n",
    "        for node in explored_nodes:\n",
    "            lowest_g = min([neighbour.g_value[player] for neighbour in node.neighbours])\n",
    "            lowest_g_neighbours = [neighbour for neighbour in node.neighbours if neighbour.g_value[player] == lowest_g]\n",
    "            node.comes_from[player] = random.choice(lowest_g_neighbours)\n",
    "        \n",
    "            \n",
    "    def update_node(self, player:int, node:HexTile) -> None:\n",
    "        node.rhs_value[player] = np.inf\n",
    "\n",
    "        # Compute how much needs to be added to the distance based on the current node's status\n",
    "        cost_addition = EPS\n",
    "        if node.status == OTHER_PLAYER[player]:\n",
    "            cost_addition = np.inf\n",
    "        elif node.status == EMPTY:\n",
    "            cost_addition = 1\n",
    "\n",
    "        # If start edge node of current player set rhs as the cost_addition else check neighbours\n",
    "        if node in self.start_edge_tiles[player]:\n",
    "            node.rhs_value[player] = cost_addition\n",
    "        else:\n",
    "            for neighbour_node in node.neighbours:\n",
    "                potential_rhs = neighbour_node.g_value[player] + cost_addition\n",
    "                if potential_rhs < node.rhs_value[player]:\n",
    "                    node.rhs_value[player] = potential_rhs\n",
    "\n",
    "        # Remove to the exploration queue\n",
    "        if node in self.exploration_queue[player]:\n",
    "            self.exploration_queue[player].remove(node)\n",
    "\n",
    "        # If rhs differs from g, add to queue with new cost\n",
    "        if node.rhs_value[player] != node.g_value[player]:\n",
    "            self.exploration_queue[player].put((min(node.g_value[player], node.rhs_value[player]), node))\n",
    "            \n",
    "            \n",
    "    def get_shortest_paths(self, player):\n",
    "        closest_end_edge_tiles = [tile for tile in self.end_edge_tiles[player] if tile.g_value[player] == self.shortest_dist[player]]\n",
    "        paths = []\n",
    "        for tile in closest_end_edge_tiles:\n",
    "            path = []\n",
    "            current_tile = tile\n",
    "            path.append(tile)\n",
    "            while current_tile not in self.start_edge_tiles[player]:\n",
    "                current_tile = current_tile.comes_from[player]\n",
    "                path.append(current_tile)\n",
    "            path.reverse()\n",
    "            paths.append(path)\n",
    "        return paths\n",
    "            \n",
    "                    \n",
    "    def check_win_player(self, player:int) -> bool:\n",
    "        return self.shortest_dist[player] < 1\n",
    "    \n",
    "    \n",
    "    def check_win(self) -> int:\n",
    "        if self.check_win_player(PLAYER1):\n",
    "            return PLAYER1\n",
    "        elif self.check_win_player(PLAYER2):\n",
    "            return PLAYER2\n",
    "        else:\n",
    "            return -1\n",
    "    \n",
    "\n",
    "    def hash_state(self, state_array):\n",
    "        return hash(state_array.tobytes())\n",
    "    \n",
    "    \n",
    "    def print_grid(self) -> None:\n",
    "        for i in range(self.size):\n",
    "            row_items = [colored(int(item),TILE_COLORS[item]) if item > 0 else str(int(item)) for item in self.state_array[:,i]]\n",
    "            print('  '.join(['' for i in range(i+1)]) + '  '.join(row_items))\n",
    "            \n",
    "    \n",
    "    def print_distances_player(self, player:int) -> None:\n",
    "        for i in range(self.size):\n",
    "            row_items = []\n",
    "            for j in range(self.size):\n",
    "                g = self.get_tile(j,i).g_value[player]\n",
    "                row_items.append(f'{(0 if g < 1 else g):3.0f}')\n",
    "            print('  '.join(['' for i in range(i+1)]) + '  '.join(row_items))"
   ]
  },
  {
   "cell_type": "markdown",
   "id": "75ad1ef7-d8b4-41c2-970b-55e61811709d",
   "metadata": {
    "tags": []
   },
   "source": [
    "#### 1.2.4) HexGame"
   ]
  },
  {
   "cell_type": "code",
   "execution_count": 11,
   "id": "cc3a9381-3678-4ac9-83a1-4c8a20c39e78",
   "metadata": {},
   "outputs": [],
   "source": [
    "class HexGame:\n",
    "    def __init__(self, player1:Player, player2:Player, grid_size:int=11):\n",
    "        self.status = STOPPED\n",
    "        \n",
    "        self.active_player_nb = PLAYER1\n",
    "        self.players = {\n",
    "            PLAYER1:player1, \n",
    "            PLAYER2:player2\n",
    "        }\n",
    "        \n",
    "        self.grid_size = grid_size\n",
    "        self.grid = HexGrid(grid_size)\n",
    "        \n",
    "        \n",
    "    @property\n",
    "    def active_player(self) -> Player:\n",
    "        return self.players[self.active_player_nb]\n",
    "        \n",
    "        \n",
    "    def play_turn(self) -> int:\n",
    "        if self.status == STARTED:\n",
    "            if isinstance(self.active_player, ManualPlayer):\n",
    "                pass\n",
    "            else:\n",
    "                self.active_player.move(self.grid)\n",
    "                self.grid.turn_number += 1\n",
    "                \n",
    "                # Check for victory and finalize game\n",
    "                win_status = -1\n",
    "                if self.grid.check_win_player(self.active_player_nb):\n",
    "                    win_status = self.active_player_nb\n",
    "                    self.status = FINISHED\n",
    "                    \n",
    "                    # Send signal the game is over to both players\n",
    "                    self.active_player.finalize(win_status)\n",
    "                    self.players[self.active_player.other_side].finalize(win_status)\n",
    "\n",
    "                self.switch_player()\n",
    "                    \n",
    "                return win_status\n",
    "        \n",
    "        \n",
    "    def switch_player(self) -> None:\n",
    "        # Swap player\n",
    "        self.active_player_nb = OTHER_PLAYER[self.active_player_nb]"
   ]
  },
  {
   "cell_type": "markdown",
   "id": "e17b2c99-fdb9-4974-9749-2db4bbbb9aa7",
   "metadata": {
    "tags": []
   },
   "source": [
    "### 1.3) Helping functions"
   ]
  },
  {
   "cell_type": "code",
   "execution_count": 15,
   "id": "154d5580-3bf2-42a4-9158-99442d87c0eb",
   "metadata": {},
   "outputs": [],
   "source": [
    "def play_game(p1, p2, grid_size=11, game_nb=0, suppress=False):\n",
    "    game = HexGame(p1,p2, grid_size)\n",
    "    game.status = STARTED\n",
    "    p1.start_game()\n",
    "    p2.start_game()\n",
    "    \n",
    "    turn_times = []\n",
    "    for _ in tqdm(range(grid_size**2), position=1, leave=False, unit='turn', desc=f'Game {game_nb}', disable=suppress):\n",
    "        t0 = time.time()\n",
    "        result = game.play_turn()\n",
    "        turn_times.append(time.time() - t0)\n",
    "        \n",
    "        # If there was a win, stop and return the winner\n",
    "        if result > -1:\n",
    "            break\n",
    "    \n",
    "    if result == -1:\n",
    "        print(colored('/!\\\\ GAME UNFINISHED /!\\\\', 'red'))\n",
    "    \n",
    "    return result, game, turn_times"
   ]
  },
  {
   "cell_type": "code",
   "execution_count": 1,
   "id": "3ddf5d68-dc80-4e89-bfe8-ba157eaade92",
   "metadata": {},
   "outputs": [],
   "source": [
    "def play_n_games(p1, p2, n, grid_size=11, suppress_game_tqdm=True, print_stats=True, print_wins=False):\n",
    "    p1_count = []\n",
    "    p2_count = []\n",
    "    game_list = []\n",
    "    turn_times_list = []\n",
    "    game_times = []\n",
    "\n",
    "    with tqdm(range(n), position=0, unit='game') as pbar:\n",
    "        for i in pbar:\n",
    "            t0 = time.time()\n",
    "            result, game, turn_times = play_game(p1, p2, grid_size, game_nb=i, suppress=suppress_game_tqdm)\n",
    "            game_times.append(time.time() - t0)\n",
    "\n",
    "            p1_count.append(1 if result == PLAYER1 else 0)\n",
    "            p2_count.append(1 if result == PLAYER2 else 0)\n",
    "            game_list.append(game)\n",
    "            turn_times_list.append(turn_times)\n",
    "            \n",
    "            \n",
    "            rolling_avg = np.average(p1_count) * 100\n",
    "            \n",
    "            pbar.set_postfix(p1_wins=rolling_avg, refresh=False)\n",
    "        \n",
    "    # Print out results\n",
    "    print(f'After {n} games, we have:')\n",
    "    print(f'  - Player 1 wins: {np.sum(p1_count)} ({np.average(p1_count) * 100:.2f}%)')\n",
    "    print(f'  - Player 2 wins: {np.sum(p2_count)} ({np.average(p2_count) * 100:.2f}%)')\n",
    "    \n",
    "    # Print stats\n",
    "    if print_stats:\n",
    "        print(f'Average game time: {np.average(game_times):.1f}s')\n",
    "        print(f'Average turn time: {np.average([np.average(turn_times) for turn_times in turn_times_list]):.1}s')\n",
    "    \n",
    "    if print_wins:\n",
    "        avg_p1 = np.cumsum(p1_count) / np.arange(1, len(p1_count) + 1)\n",
    "        avg_p2 = np.cumsum(p2_count) / np.arange(1, len(p2_count) + 1)\n",
    "\n",
    "        fig, ax = plt.subplots(figsize=(18, 6))\n",
    "        ax.set_title(\"Average reward\", fontsize=20)\n",
    "        ax.plot(range(len(avg_p1)), avg_p1, '-', label=\"Player 1 wins\")\n",
    "        ax.plot(range(len(avg_p2)), avg_p2, '-', label=\"Player 2 wins\")\n",
    "        ax.set_xlabel(\"num game\", fontsize=12)\n",
    "        ax.set_ylabel(\"average reward\", fontsize=12)\n",
    "        ax.legend()\n",
    "        \n",
    "        plt.show()\n",
    "    \n",
    "    return p1_count, p2_count, game_list, turn_times_list, game_times"
   ]
  },
  {
   "cell_type": "markdown",
   "id": "f95a7e9a-ad07-4043-bb40-ae2c41194622",
   "metadata": {
    "tags": [],
    "toc-hr-collapsed": true
   },
   "source": [
    "## 2) Random player"
   ]
  },
  {
   "cell_type": "markdown",
   "id": "e4bafccb-adf2-445e-b12c-0d1bc19df19f",
   "metadata": {},
   "source": [
    "The Random player will simply play a random empty tile every turn."
   ]
  },
  {
   "cell_type": "markdown",
   "id": "3139cca3-0eb3-4433-a359-935627f2de80",
   "metadata": {
    "tags": []
   },
   "source": [
    "### 2.1) Player definition"
   ]
  },
  {
   "cell_type": "code",
   "execution_count": 17,
   "id": "c2dd87ce-c2e0-4d68-8648-e476266d59a5",
   "metadata": {},
   "outputs": [],
   "source": [
    "class RandomPlayer(Player): \n",
    "    def move(self, grid):\n",
    "        rdm_tile = random.choice(grid.empty_tiles)\n",
    "        rdm_tile.status = self.side\n",
    "        \n",
    "PLAYER_CLASSES['Random'] = RandomPlayer"
   ]
  },
  {
   "cell_type": "markdown",
   "id": "c6be3ee5-1bcf-4ec0-a648-4e668d566697",
   "metadata": {
    "tags": []
   },
   "source": [
    "### 2.2) Player testing"
   ]
  },
  {
   "cell_type": "code",
   "execution_count": 18,
   "id": "d9a88fb8-2947-48ec-a0dd-fa170ed29fe4",
   "metadata": {
    "tags": []
   },
   "outputs": [
    {
     "data": {
      "application/vnd.jupyter.widget-view+json": {
       "model_id": "5f0a3014200a44bea2b831d5e15f3b53",
       "version_major": 2,
       "version_minor": 0
      },
      "text/plain": [
       "  0%|          | 0/1000 [00:00<?, ?game/s]"
      ]
     },
     "metadata": {},
     "output_type": "display_data"
    },
    {
     "name": "stdout",
     "output_type": "stream",
     "text": [
      "After 1000 games, we have:\n",
      "  - Player 1 wins: 521 (52.10%)\n",
      "  - Player 2 wins: 479 (47.90%)\n",
      "Average game time: 0.04s\n",
      "Average turn time: 0.0003s\n"
     ]
    }
   ],
   "source": [
    "num_games = 1000\n",
    "\n",
    "p1 = RandomPlayer(PLAYER1)\n",
    "p2 = RandomPlayer(PLAYER2)\n",
    "\n",
    "p1_counts, p2_counts, games, turn_times_list, game_times = play_n_games(p1, p2, num_games, grid_size=11, suppress_game_tqdm=True)"
   ]
  },
  {
   "cell_type": "code",
   "execution_count": 19,
   "id": "54f9d168-021f-43ae-be0f-6175fd16c92d",
   "metadata": {},
   "outputs": [
    {
     "name": "stdout",
     "output_type": "stream",
     "text": [
      "Winner: Player 2\n",
      "\u001b[31m1\u001b[0m  \u001b[34m2\u001b[0m  \u001b[34m2\u001b[0m  \u001b[34m2\u001b[0m  \u001b[34m2\u001b[0m  \u001b[31m1\u001b[0m  \u001b[34m2\u001b[0m  \u001b[34m2\u001b[0m  \u001b[34m2\u001b[0m  \u001b[34m2\u001b[0m  \u001b[34m2\u001b[0m\n",
      "  \u001b[34m2\u001b[0m  \u001b[34m2\u001b[0m  \u001b[31m1\u001b[0m  \u001b[34m2\u001b[0m  \u001b[34m2\u001b[0m  \u001b[34m2\u001b[0m  \u001b[31m1\u001b[0m  \u001b[34m2\u001b[0m  \u001b[31m1\u001b[0m  \u001b[31m1\u001b[0m  \u001b[31m1\u001b[0m\n",
      "    \u001b[31m1\u001b[0m  \u001b[34m2\u001b[0m  \u001b[31m1\u001b[0m  \u001b[31m1\u001b[0m  \u001b[31m1\u001b[0m  \u001b[34m2\u001b[0m  \u001b[31m1\u001b[0m  \u001b[34m2\u001b[0m  \u001b[31m1\u001b[0m  \u001b[31m1\u001b[0m  \u001b[34m2\u001b[0m\n",
      "      \u001b[31m1\u001b[0m  \u001b[34m2\u001b[0m  \u001b[31m1\u001b[0m  \u001b[31m1\u001b[0m  \u001b[34m2\u001b[0m  \u001b[34m2\u001b[0m  \u001b[31m1\u001b[0m  \u001b[31m1\u001b[0m  \u001b[31m1\u001b[0m  \u001b[34m2\u001b[0m  \u001b[31m1\u001b[0m\n",
      "        \u001b[34m2\u001b[0m  0  \u001b[31m1\u001b[0m  \u001b[34m2\u001b[0m  \u001b[31m1\u001b[0m  \u001b[31m1\u001b[0m  \u001b[34m2\u001b[0m  \u001b[31m1\u001b[0m  \u001b[34m2\u001b[0m  \u001b[31m1\u001b[0m  0\n",
      "          \u001b[31m1\u001b[0m  \u001b[31m1\u001b[0m  \u001b[34m2\u001b[0m  \u001b[34m2\u001b[0m  \u001b[31m1\u001b[0m  \u001b[34m2\u001b[0m  \u001b[31m1\u001b[0m  \u001b[31m1\u001b[0m  \u001b[34m2\u001b[0m  \u001b[34m2\u001b[0m  \u001b[31m1\u001b[0m\n",
      "            \u001b[31m1\u001b[0m  \u001b[34m2\u001b[0m  \u001b[34m2\u001b[0m  \u001b[31m1\u001b[0m  \u001b[31m1\u001b[0m  \u001b[31m1\u001b[0m  \u001b[31m1\u001b[0m  \u001b[31m1\u001b[0m  \u001b[31m1\u001b[0m  \u001b[31m1\u001b[0m  \u001b[31m1\u001b[0m\n",
      "              \u001b[31m1\u001b[0m  \u001b[34m2\u001b[0m  \u001b[34m2\u001b[0m  \u001b[31m1\u001b[0m  \u001b[34m2\u001b[0m  \u001b[34m2\u001b[0m  \u001b[31m1\u001b[0m  \u001b[31m1\u001b[0m  \u001b[31m1\u001b[0m  \u001b[31m1\u001b[0m  \u001b[34m2\u001b[0m\n",
      "                \u001b[34m2\u001b[0m  \u001b[31m1\u001b[0m  \u001b[31m1\u001b[0m  \u001b[31m1\u001b[0m  \u001b[34m2\u001b[0m  \u001b[34m2\u001b[0m  \u001b[31m1\u001b[0m  \u001b[34m2\u001b[0m  \u001b[34m2\u001b[0m  \u001b[31m1\u001b[0m  \u001b[31m1\u001b[0m\n",
      "                  \u001b[34m2\u001b[0m  0  \u001b[34m2\u001b[0m  \u001b[34m2\u001b[0m  \u001b[31m1\u001b[0m  \u001b[31m1\u001b[0m  \u001b[34m2\u001b[0m  \u001b[34m2\u001b[0m  \u001b[34m2\u001b[0m  \u001b[34m2\u001b[0m  \u001b[34m2\u001b[0m\n",
      "                    \u001b[31m1\u001b[0m  \u001b[34m2\u001b[0m  \u001b[34m2\u001b[0m  \u001b[34m2\u001b[0m  \u001b[31m1\u001b[0m  \u001b[31m1\u001b[0m  \u001b[31m1\u001b[0m  \u001b[34m2\u001b[0m  \u001b[34m2\u001b[0m  \u001b[34m2\u001b[0m  \u001b[34m2\u001b[0m\n"
     ]
    }
   ],
   "source": [
    "# Display of the end state of a game\n",
    "game_nb = 2\n",
    "print(f'Winner: Player {\"1\" if p1_counts[game_nb] == 1 else \"2\"}')\n",
    "games[game_nb].grid.print_grid()"
   ]
  },
  {
   "cell_type": "markdown",
   "id": "c40a629c-37bf-4dc8-a9ef-ca26a6c45c03",
   "metadata": {},
   "source": [
    "Like we can see, the random players win each around half of times, with a slight preference for the starting player."
   ]
  },
  {
   "cell_type": "markdown",
   "id": "78a7f028-2b7d-47be-975d-e7094024bef8",
   "metadata": {
    "tags": [],
    "toc-hr-collapsed": true
   },
   "source": [
    "## 3) Minimax Player"
   ]
  },
  {
   "cell_type": "markdown",
   "id": "7d09ce4e-7d6c-4f46-a4f5-693b8b79a05a",
   "metadata": {},
   "source": [
    "The minimax player is comprised of multiple mechanisms. Minimax with alpha-beta pruning along with a Dijstra shortest path algorithm to calculate the heuristic score of any give board state.\n",
    "\n",
    "As seen during the lab, the principle of Minimax is that from the perspective of the current player, we want to maximize the outcome knowing the next player wants to minimize the outcome of the first player.. This is done by exploring a state decision tree with each possible action (board placement) leading to a different board state. However this can lead to a combinatorial explosion: for the game of hex, when exploring 1 depth, we have to explore 121 states, 2 depth lead to 14,520, 3 depth to 1,727,880 ,... ultimatly leading to 8e+200 for the full tree. This is clearly impossible to fully explore as it there are less seconds already elapsed since the creation of the universe. So to resolve this, we limit the exploration to a more reasonable depth (like 2, 3 or perhapse 4). \n",
    "\n",
    "The problem with limiting the amount of exploration is that we cannot know the exact outcome of the game at that point. That is why we have to define a heuristic function that will compute how close a player is of winning. In our case we will use Dijstra's algorithm to compute the shortest path(s) from one edge to the other giving each step between tiles 1 of cost distance cost and  when passing through a tile already owned, this cost will be zero.\n",
    "\n",
    "Furthermore, to improve the performance of the minimax algorithm, we make use of alpha-beta pruning which checks whether or not it is worth exploring further states knowing the motivations of the players."
   ]
  },
  {
   "cell_type": "markdown",
   "id": "3936627f-cb00-4682-8aab-3f4cd432fab4",
   "metadata": {},
   "source": [
    "### 3.1) Player definition"
   ]
  },
  {
   "cell_type": "code",
   "execution_count": 19,
   "id": "8ff822b0-44a9-4c21-b60a-4c92fb027d76",
   "metadata": {},
   "outputs": [],
   "source": [
    "class MinimaxPlayer(Player):\n",
    "    def __init__(self, side, search_depth=4):\n",
    "        super().__init__(side)\n",
    "        self.search_depth = search_depth\n",
    "        self.dists_explored_states = {PLAYER1: {}, PLAYER2: {}}\n",
    "        \n",
    "        self.skipped = 0\n",
    "        self.computed = 0\n",
    "        \n",
    "    \n",
    "    def move(self, grid):\n",
    "        _, tile = self.find_best_move(grid = grid, \n",
    "                                      player = self.side,\n",
    "                                      is_max = True)\n",
    "        grid.get_tile(tile.x,tile.y).status = self.side\n",
    "    \n",
    "    \n",
    "    def shortest_path_dist(self, grid:HexGrid, player):\n",
    "        grid_hash = grid.hash_state(grid.state_array)\n",
    "        \n",
    "        # If not already computed the shortest distance\n",
    "        if grid_hash not in self.dists_explored_states[player]:\n",
    "            self.computed += 1\n",
    "            # Compute the shortest distance\n",
    "            shortest_dist = grid.shortest_dist[player]\n",
    "            self.dists_explored_states[player][grid_hash] = shortest_dist\n",
    "            \n",
    "            # Horizontal mirror \n",
    "            lr_state_array = np.fliplr(grid.state_array)\n",
    "            self.dists_explored_states[player][self.hashed_grid_state(lr_state_array)] = shortest_dist\n",
    "            \n",
    "            # Vertical mirror\n",
    "            ud_state_array = np.flipud(grid.state_array)\n",
    "            self.dists_explored_states[player][self.hashed_grid_state(ud_state_array)] = shortest_dist\n",
    "            \n",
    "            # Horizontal + vertical mirror\n",
    "            lr_ud_state_array = np.flipud(lr_state_array)\n",
    "            self.dists_explored_states[player][self.hashed_grid_state(lr_ud_state_array)] = shortest_dist\n",
    "        else:\n",
    "            self.skipped += 1\n",
    "            \n",
    "        return self.dists_explored_states[player][grid_hash]\n",
    "            \n",
    "    \n",
    "    \n",
    "    def find_best_move(self, grid, player, is_max, depth=0, alpha=-np.inf, beta=np.inf):\n",
    "        # Stop if found a winning leaf\n",
    "        win_status = grid.check_win()\n",
    "        if win_status == self.side:\n",
    "            return (np.inf, None)\n",
    "        if win_status == self.other_side:\n",
    "            return (-np.inf, None)\n",
    "        \n",
    "        # Stop and get heuristic score if reached desired depth\n",
    "        if depth == self.search_depth:\n",
    "            score = self.shortest_path_dist(grid, self.other_side) - self.shortest_path_dist(grid, self.side)\n",
    "            return (score, None)\n",
    "        \n",
    "        # Else get all empty tiles, for each go one level deeper\n",
    "        best_moves = []\n",
    "        if is_max:\n",
    "            best_value = -np.inf\n",
    "            for tile in grid.empty_tiles:\n",
    "                # Make new move\n",
    "                new_grid = copy.deepcopy(grid)\n",
    "                new_grid_tile = new_grid.get_tile(tile.x,tile.y)\n",
    "                new_grid_tile.status = player\n",
    "                \n",
    "                # Dig one level deeper                \n",
    "                res, _ = self.find_best_move(grid = new_grid, \n",
    "                                             player = OTHER_PLAYER[player],\n",
    "                                             is_max = False,\n",
    "                                             depth = depth+1,\n",
    "                                             alpha = alpha,\n",
    "                                             beta = beta)\n",
    "                \n",
    "                if res > best_value:\n",
    "                    best_value = res\n",
    "                    best_moves = [(res, tile)]\n",
    "                elif res == best_value:\n",
    "                    best_moves.append((res, tile))\n",
    "                    \n",
    "                alpha = max(alpha, best_value)\n",
    "                \n",
    "                if beta <= alpha:\n",
    "                    break\n",
    "                    \n",
    "        else:\n",
    "            best_value = np.inf\n",
    "            for tile in grid.empty_tiles:\n",
    "                # Make new move\n",
    "                new_grid = copy.deepcopy(grid)\n",
    "                new_grid_tile = new_grid.get_tile(tile.x,tile.y)\n",
    "                new_grid_tile.status = player\n",
    "\n",
    "                # Dig one level deeper\n",
    "                res, _ = self.find_best_move(grid = new_grid, \n",
    "                                             player = OTHER_PLAYER[player],\n",
    "                                             is_max = True,\n",
    "                                             depth = depth+1,\n",
    "                                             alpha = alpha,\n",
    "                                             beta = beta)\n",
    "                \n",
    "                if res < best_value:\n",
    "                    best_value = res\n",
    "                    best_moves = [(res, tile)]\n",
    "                elif res == best_value:\n",
    "                    best_moves.append((res, tile))\n",
    "                    \n",
    "                beta = min(beta, best_value)\n",
    "                \n",
    "                if beta <= alpha:\n",
    "                    break\n",
    "                    \n",
    "        return random.choice(best_moves)\n",
    "                \n",
    "PLAYER_CLASSES['Minimax'] = MinimaxPlayer"
   ]
  },
  {
   "cell_type": "markdown",
   "id": "c19f64c5-c31c-4110-ab26-7ec5ae2752c9",
   "metadata": {
    "tags": []
   },
   "source": [
    "### 3.2) Player testing"
   ]
  },
  {
   "cell_type": "code",
   "execution_count": 21,
   "id": "3e4dfcbc-f1b1-443c-b17c-ae6b899f1152",
   "metadata": {},
   "outputs": [
    {
     "data": {
      "application/vnd.jupyter.widget-view+json": {
       "model_id": "2efdd070931540e3ade5a7bfab1f2c79",
       "version_major": 2,
       "version_minor": 0
      },
      "text/plain": [
       "  0%|          | 0/10 [00:00<?, ?game/s]"
      ]
     },
     "metadata": {},
     "output_type": "display_data"
    },
    {
     "data": {
      "application/vnd.jupyter.widget-view+json": {
       "model_id": "a22011a451c94e438b36a6099f46a673",
       "version_major": 2,
       "version_minor": 0
      },
      "text/plain": [
       "Game 0:   0%|          | 0/81 [00:00<?, ?turn/s]"
      ]
     },
     "metadata": {},
     "output_type": "display_data"
    },
    {
     "data": {
      "application/vnd.jupyter.widget-view+json": {
       "model_id": "3b10b3cebade4d05bcae36dd6888f8eb",
       "version_major": 2,
       "version_minor": 0
      },
      "text/plain": [
       "Game 1:   0%|          | 0/81 [00:00<?, ?turn/s]"
      ]
     },
     "metadata": {},
     "output_type": "display_data"
    },
    {
     "data": {
      "application/vnd.jupyter.widget-view+json": {
       "model_id": "28572a5e6bc146c887338ae9cb912db8",
       "version_major": 2,
       "version_minor": 0
      },
      "text/plain": [
       "Game 2:   0%|          | 0/81 [00:00<?, ?turn/s]"
      ]
     },
     "metadata": {},
     "output_type": "display_data"
    },
    {
     "data": {
      "application/vnd.jupyter.widget-view+json": {
       "model_id": "f4e7f9f5df634dbab36813656d010d88",
       "version_major": 2,
       "version_minor": 0
      },
      "text/plain": [
       "Game 3:   0%|          | 0/81 [00:00<?, ?turn/s]"
      ]
     },
     "metadata": {},
     "output_type": "display_data"
    },
    {
     "data": {
      "application/vnd.jupyter.widget-view+json": {
       "model_id": "558f6d50e15a479082040ba37ab78593",
       "version_major": 2,
       "version_minor": 0
      },
      "text/plain": [
       "Game 4:   0%|          | 0/81 [00:00<?, ?turn/s]"
      ]
     },
     "metadata": {},
     "output_type": "display_data"
    },
    {
     "data": {
      "application/vnd.jupyter.widget-view+json": {
       "model_id": "e86d8c18c6ba4beea7117673cb39a9ed",
       "version_major": 2,
       "version_minor": 0
      },
      "text/plain": [
       "Game 5:   0%|          | 0/81 [00:00<?, ?turn/s]"
      ]
     },
     "metadata": {},
     "output_type": "display_data"
    },
    {
     "data": {
      "application/vnd.jupyter.widget-view+json": {
       "model_id": "de7578bc8e70469aacd665e35f473f40",
       "version_major": 2,
       "version_minor": 0
      },
      "text/plain": [
       "Game 6:   0%|          | 0/81 [00:00<?, ?turn/s]"
      ]
     },
     "metadata": {},
     "output_type": "display_data"
    },
    {
     "data": {
      "application/vnd.jupyter.widget-view+json": {
       "model_id": "98a2a7536b5b47729ce9ad504bcbdaf7",
       "version_major": 2,
       "version_minor": 0
      },
      "text/plain": [
       "Game 7:   0%|          | 0/81 [00:00<?, ?turn/s]"
      ]
     },
     "metadata": {},
     "output_type": "display_data"
    },
    {
     "data": {
      "application/vnd.jupyter.widget-view+json": {
       "model_id": "31e2467166ec468fb0b6c49f1c99049f",
       "version_major": 2,
       "version_minor": 0
      },
      "text/plain": [
       "Game 8:   0%|          | 0/81 [00:00<?, ?turn/s]"
      ]
     },
     "metadata": {},
     "output_type": "display_data"
    },
    {
     "data": {
      "application/vnd.jupyter.widget-view+json": {
       "model_id": "a2db0ac80a294dd49fb964b3fa774b53",
       "version_major": 2,
       "version_minor": 0
      },
      "text/plain": [
       "Game 9:   0%|          | 0/81 [00:00<?, ?turn/s]"
      ]
     },
     "metadata": {},
     "output_type": "display_data"
    },
    {
     "name": "stdout",
     "output_type": "stream",
     "text": [
      "After 10 games, we have:\n",
      "  - Player 1 wins: 10 (100.00%)\n",
      "  - Player 2 wins: 0 (0.00%)\n",
      "Average game time: 2e+00s\n",
      "Average turn time: 0.1s\n"
     ]
    }
   ],
   "source": [
    "num_games = 10\n",
    "\n",
    "p1 = MinimaxPlayer(PLAYER1, search_depth=1)\n",
    "p2 = RandomPlayer(PLAYER2)\n",
    "\n",
    "p1_counts, p2_counts, games, turn_times_list, game_times = play_n_games(p1, p2, num_games, grid_size=9, suppress_game_tqdm=False)"
   ]
  },
  {
   "cell_type": "code",
   "execution_count": 22,
   "id": "cec7283c-b0e7-421d-9a75-6d9ebae9a71e",
   "metadata": {},
   "outputs": [
    {
     "data": {
      "application/vnd.jupyter.widget-view+json": {
       "model_id": "b2562147659c4d478c7e5a6205a3bbc4",
       "version_major": 2,
       "version_minor": 0
      },
      "text/plain": [
       "  0%|          | 0/10 [00:00<?, ?game/s]"
      ]
     },
     "metadata": {},
     "output_type": "display_data"
    },
    {
     "data": {
      "application/vnd.jupyter.widget-view+json": {
       "model_id": "8ebbd1c0408647f9b1e9a4c219960373",
       "version_major": 2,
       "version_minor": 0
      },
      "text/plain": [
       "Game 0:   0%|          | 0/81 [00:00<?, ?turn/s]"
      ]
     },
     "metadata": {},
     "output_type": "display_data"
    },
    {
     "data": {
      "application/vnd.jupyter.widget-view+json": {
       "model_id": "c5d34e28a24e42028e2c0fe1c3818887",
       "version_major": 2,
       "version_minor": 0
      },
      "text/plain": [
       "Game 1:   0%|          | 0/81 [00:00<?, ?turn/s]"
      ]
     },
     "metadata": {},
     "output_type": "display_data"
    },
    {
     "data": {
      "application/vnd.jupyter.widget-view+json": {
       "model_id": "0e60b5e83c7942e29421476a4413475e",
       "version_major": 2,
       "version_minor": 0
      },
      "text/plain": [
       "Game 2:   0%|          | 0/81 [00:00<?, ?turn/s]"
      ]
     },
     "metadata": {},
     "output_type": "display_data"
    },
    {
     "data": {
      "application/vnd.jupyter.widget-view+json": {
       "model_id": "e9c59a15ee14476e8baef0628fcc0b98",
       "version_major": 2,
       "version_minor": 0
      },
      "text/plain": [
       "Game 3:   0%|          | 0/81 [00:00<?, ?turn/s]"
      ]
     },
     "metadata": {},
     "output_type": "display_data"
    },
    {
     "data": {
      "application/vnd.jupyter.widget-view+json": {
       "model_id": "7ada4e495a764128a9585c493d207ce1",
       "version_major": 2,
       "version_minor": 0
      },
      "text/plain": [
       "Game 4:   0%|          | 0/81 [00:00<?, ?turn/s]"
      ]
     },
     "metadata": {},
     "output_type": "display_data"
    },
    {
     "data": {
      "application/vnd.jupyter.widget-view+json": {
       "model_id": "a7caf1724af24432ba9d24a84091cd36",
       "version_major": 2,
       "version_minor": 0
      },
      "text/plain": [
       "Game 5:   0%|          | 0/81 [00:00<?, ?turn/s]"
      ]
     },
     "metadata": {},
     "output_type": "display_data"
    },
    {
     "data": {
      "application/vnd.jupyter.widget-view+json": {
       "model_id": "d082e0e480e84934b8f0149f63f91fc2",
       "version_major": 2,
       "version_minor": 0
      },
      "text/plain": [
       "Game 6:   0%|          | 0/81 [00:00<?, ?turn/s]"
      ]
     },
     "metadata": {},
     "output_type": "display_data"
    },
    {
     "data": {
      "application/vnd.jupyter.widget-view+json": {
       "model_id": "81fb264a6a1146c28f8969fe18765663",
       "version_major": 2,
       "version_minor": 0
      },
      "text/plain": [
       "Game 7:   0%|          | 0/81 [00:00<?, ?turn/s]"
      ]
     },
     "metadata": {},
     "output_type": "display_data"
    },
    {
     "data": {
      "application/vnd.jupyter.widget-view+json": {
       "model_id": "b1cb7c98dafe4a9885d33bc82e1de1d7",
       "version_major": 2,
       "version_minor": 0
      },
      "text/plain": [
       "Game 8:   0%|          | 0/81 [00:00<?, ?turn/s]"
      ]
     },
     "metadata": {},
     "output_type": "display_data"
    },
    {
     "data": {
      "application/vnd.jupyter.widget-view+json": {
       "model_id": "7dbec30d42014af784cf49060ccc9bcc",
       "version_major": 2,
       "version_minor": 0
      },
      "text/plain": [
       "Game 9:   0%|          | 0/81 [00:00<?, ?turn/s]"
      ]
     },
     "metadata": {},
     "output_type": "display_data"
    },
    {
     "name": "stdout",
     "output_type": "stream",
     "text": [
      "After 10 games, we have:\n",
      "  - Player 1 wins: 5 (50.00%)\n",
      "  - Player 2 wins: 5 (50.00%)\n",
      "Average game time: 6e+00s\n",
      "Average turn time: 0.2s\n"
     ]
    }
   ],
   "source": [
    "num_games = 10\n",
    "\n",
    "p1 = MinimaxPlayer(PLAYER1, search_depth=1)\n",
    "p2 = MinimaxPlayer(PLAYER2, search_depth=1)\n",
    "\n",
    "p1_counts, p2_counts, games, turn_times_list, game_times = play_n_games(p1, p2, num_games, grid_size=9, suppress_game_tqdm=False)"
   ]
  },
  {
   "cell_type": "code",
   "execution_count": 23,
   "id": "1a5bf27a-2ef7-44f0-beb7-b91d6e7b51a5",
   "metadata": {
    "tags": []
   },
   "outputs": [
    {
     "data": {
      "application/vnd.jupyter.widget-view+json": {
       "model_id": "d564d34b0c3c496287da18f2ec8a6ba6",
       "version_major": 2,
       "version_minor": 0
      },
      "text/plain": [
       "  0%|          | 0/10 [00:00<?, ?game/s]"
      ]
     },
     "metadata": {},
     "output_type": "display_data"
    },
    {
     "data": {
      "application/vnd.jupyter.widget-view+json": {
       "model_id": "8a2538e6612a4ae784d5717fc6da87ac",
       "version_major": 2,
       "version_minor": 0
      },
      "text/plain": [
       "Game 0:   0%|          | 0/81 [00:00<?, ?turn/s]"
      ]
     },
     "metadata": {},
     "output_type": "display_data"
    },
    {
     "data": {
      "application/vnd.jupyter.widget-view+json": {
       "model_id": "3bdcb7b5daef4f729b35c7eb20eaa8ec",
       "version_major": 2,
       "version_minor": 0
      },
      "text/plain": [
       "Game 1:   0%|          | 0/81 [00:00<?, ?turn/s]"
      ]
     },
     "metadata": {},
     "output_type": "display_data"
    },
    {
     "data": {
      "application/vnd.jupyter.widget-view+json": {
       "model_id": "f21b7e9c1a0f44d38cd2edcb20dee7a0",
       "version_major": 2,
       "version_minor": 0
      },
      "text/plain": [
       "Game 2:   0%|          | 0/81 [00:00<?, ?turn/s]"
      ]
     },
     "metadata": {},
     "output_type": "display_data"
    },
    {
     "data": {
      "application/vnd.jupyter.widget-view+json": {
       "model_id": "828b9758eff54c4dbf7ea27b8f1be422",
       "version_major": 2,
       "version_minor": 0
      },
      "text/plain": [
       "Game 3:   0%|          | 0/81 [00:00<?, ?turn/s]"
      ]
     },
     "metadata": {},
     "output_type": "display_data"
    },
    {
     "data": {
      "application/vnd.jupyter.widget-view+json": {
       "model_id": "c594c8924b544156b760a4087589d3a3",
       "version_major": 2,
       "version_minor": 0
      },
      "text/plain": [
       "Game 4:   0%|          | 0/81 [00:00<?, ?turn/s]"
      ]
     },
     "metadata": {},
     "output_type": "display_data"
    },
    {
     "data": {
      "application/vnd.jupyter.widget-view+json": {
       "model_id": "92cb5bda32264620add18c64657613f1",
       "version_major": 2,
       "version_minor": 0
      },
      "text/plain": [
       "Game 5:   0%|          | 0/81 [00:00<?, ?turn/s]"
      ]
     },
     "metadata": {},
     "output_type": "display_data"
    },
    {
     "data": {
      "application/vnd.jupyter.widget-view+json": {
       "model_id": "df0d2e39da954757a7386c44ed03e71f",
       "version_major": 2,
       "version_minor": 0
      },
      "text/plain": [
       "Game 6:   0%|          | 0/81 [00:00<?, ?turn/s]"
      ]
     },
     "metadata": {},
     "output_type": "display_data"
    },
    {
     "data": {
      "application/vnd.jupyter.widget-view+json": {
       "model_id": "c68c185183d04bcd99658e4a8d57cc64",
       "version_major": 2,
       "version_minor": 0
      },
      "text/plain": [
       "Game 7:   0%|          | 0/81 [00:00<?, ?turn/s]"
      ]
     },
     "metadata": {},
     "output_type": "display_data"
    },
    {
     "data": {
      "application/vnd.jupyter.widget-view+json": {
       "model_id": "8a5deb2bd9dd4846af60884af2d374f8",
       "version_major": 2,
       "version_minor": 0
      },
      "text/plain": [
       "Game 8:   0%|          | 0/81 [00:00<?, ?turn/s]"
      ]
     },
     "metadata": {},
     "output_type": "display_data"
    },
    {
     "data": {
      "application/vnd.jupyter.widget-view+json": {
       "model_id": "7c543440624c416683704ca61d8a41e0",
       "version_major": 2,
       "version_minor": 0
      },
      "text/plain": [
       "Game 9:   0%|          | 0/81 [00:00<?, ?turn/s]"
      ]
     },
     "metadata": {},
     "output_type": "display_data"
    },
    {
     "name": "stdout",
     "output_type": "stream",
     "text": [
      "After 10 games, we have:\n",
      "  - Player 1 wins: 3 (30.00%)\n",
      "  - Player 2 wins: 7 (70.00%)\n",
      "Average game time: 4e+01s\n",
      "Average turn time: 2e+00s\n"
     ]
    }
   ],
   "source": [
    "num_games = 10\n",
    "\n",
    "p1 = MinimaxPlayer(PLAYER1, search_depth=2)\n",
    "p2 = MinimaxPlayer(PLAYER2, search_depth=1)\n",
    "\n",
    "p1_counts, p2_counts, games, turn_times_list, game_times = play_n_games(p1, p2, num_games, grid_size=9, suppress_game_tqdm=False)"
   ]
  },
  {
   "cell_type": "code",
   "execution_count": 24,
   "id": "6c9543db-4c2e-4509-b68b-e1e4dfa5a562",
   "metadata": {
    "tags": []
   },
   "outputs": [
    {
     "data": {
      "application/vnd.jupyter.widget-view+json": {
       "model_id": "cc42cbb3fc0c427c94e2eacf15ae42d6",
       "version_major": 2,
       "version_minor": 0
      },
      "text/plain": [
       "  0%|          | 0/10 [00:00<?, ?game/s]"
      ]
     },
     "metadata": {},
     "output_type": "display_data"
    },
    {
     "data": {
      "application/vnd.jupyter.widget-view+json": {
       "model_id": "ad9c09cdb3fc499a95a5409356b57d8b",
       "version_major": 2,
       "version_minor": 0
      },
      "text/plain": [
       "Game 0:   0%|          | 0/81 [00:00<?, ?turn/s]"
      ]
     },
     "metadata": {},
     "output_type": "display_data"
    },
    {
     "data": {
      "application/vnd.jupyter.widget-view+json": {
       "model_id": "454c96ca80934baab0a499e54bc3e1b3",
       "version_major": 2,
       "version_minor": 0
      },
      "text/plain": [
       "Game 1:   0%|          | 0/81 [00:00<?, ?turn/s]"
      ]
     },
     "metadata": {},
     "output_type": "display_data"
    },
    {
     "data": {
      "application/vnd.jupyter.widget-view+json": {
       "model_id": "919ad7911a3941ccb5f05a913d2f9559",
       "version_major": 2,
       "version_minor": 0
      },
      "text/plain": [
       "Game 2:   0%|          | 0/81 [00:00<?, ?turn/s]"
      ]
     },
     "metadata": {},
     "output_type": "display_data"
    },
    {
     "data": {
      "application/vnd.jupyter.widget-view+json": {
       "model_id": "c1abf04aa9954204a97ceee5f6ad67a5",
       "version_major": 2,
       "version_minor": 0
      },
      "text/plain": [
       "Game 3:   0%|          | 0/81 [00:00<?, ?turn/s]"
      ]
     },
     "metadata": {},
     "output_type": "display_data"
    },
    {
     "data": {
      "application/vnd.jupyter.widget-view+json": {
       "model_id": "e15e68d63ff245e89a1b1a50d75caff1",
       "version_major": 2,
       "version_minor": 0
      },
      "text/plain": [
       "Game 4:   0%|          | 0/81 [00:00<?, ?turn/s]"
      ]
     },
     "metadata": {},
     "output_type": "display_data"
    },
    {
     "data": {
      "application/vnd.jupyter.widget-view+json": {
       "model_id": "fa203d3683d74772a81cf077f2b78941",
       "version_major": 2,
       "version_minor": 0
      },
      "text/plain": [
       "Game 5:   0%|          | 0/81 [00:00<?, ?turn/s]"
      ]
     },
     "metadata": {},
     "output_type": "display_data"
    },
    {
     "data": {
      "application/vnd.jupyter.widget-view+json": {
       "model_id": "fb7fcbe462f24185a3eda91ba3faf837",
       "version_major": 2,
       "version_minor": 0
      },
      "text/plain": [
       "Game 6:   0%|          | 0/81 [00:00<?, ?turn/s]"
      ]
     },
     "metadata": {},
     "output_type": "display_data"
    },
    {
     "data": {
      "application/vnd.jupyter.widget-view+json": {
       "model_id": "324c560195ae4c7aa1d1ed2ecdb7137b",
       "version_major": 2,
       "version_minor": 0
      },
      "text/plain": [
       "Game 7:   0%|          | 0/81 [00:00<?, ?turn/s]"
      ]
     },
     "metadata": {},
     "output_type": "display_data"
    },
    {
     "data": {
      "application/vnd.jupyter.widget-view+json": {
       "model_id": "b0712d1b00aa40c581634477adc4e955",
       "version_major": 2,
       "version_minor": 0
      },
      "text/plain": [
       "Game 8:   0%|          | 0/81 [00:00<?, ?turn/s]"
      ]
     },
     "metadata": {},
     "output_type": "display_data"
    },
    {
     "data": {
      "application/vnd.jupyter.widget-view+json": {
       "model_id": "7d2a536e27344af6be85182426a4ccea",
       "version_major": 2,
       "version_minor": 0
      },
      "text/plain": [
       "Game 9:   0%|          | 0/81 [00:00<?, ?turn/s]"
      ]
     },
     "metadata": {},
     "output_type": "display_data"
    },
    {
     "name": "stdout",
     "output_type": "stream",
     "text": [
      "After 10 games, we have:\n",
      "  - Player 1 wins: 9 (90.00%)\n",
      "  - Player 2 wins: 1 (10.00%)\n",
      "Average game time: 3e+01s\n",
      "Average turn time: 1e+00s\n"
     ]
    }
   ],
   "source": [
    "num_games = 10\n",
    "\n",
    "p1 = MinimaxPlayer(PLAYER1, search_depth=1)\n",
    "p2 = MinimaxPlayer(PLAYER2, search_depth=2)\n",
    "\n",
    "p1_counts, p2_counts, games, turn_times_list, game_times = play_n_games(p1, p2, num_games, grid_size=9, suppress_game_tqdm=False)"
   ]
  },
  {
   "cell_type": "code",
   "execution_count": 26,
   "id": "c2b01ae6-dd95-4fd2-8e4d-bb180f29cc58",
   "metadata": {
    "tags": []
   },
   "outputs": [
    {
     "data": {
      "application/vnd.jupyter.widget-view+json": {
       "model_id": "30ee10ac836943c0a05d779368dfc783",
       "version_major": 2,
       "version_minor": 0
      },
      "text/plain": [
       "Game 0:   0%|          | 0/81 [00:00<?, ?turn/s]"
      ]
     },
     "metadata": {},
     "output_type": "display_data"
    }
   ],
   "source": [
    "p1 = MinimaxPlayer(PLAYER1, search_depth=1)\n",
    "p2 = MinimaxPlayer(PLAYER2, search_depth=3)\n",
    "\n",
    "res = play_game(p1, p2, grid_size=9)"
   ]
  },
  {
   "cell_type": "code",
   "execution_count": 27,
   "id": "34a246a0-b2cf-4909-9be6-3623dfabc6c8",
   "metadata": {},
   "outputs": [
    {
     "name": "stdout",
     "output_type": "stream",
     "text": [
      "Winner: Player 2\n",
      "\u001b[34m2\u001b[0m  \u001b[34m2\u001b[0m  0  0  \u001b[31m1\u001b[0m  \u001b[31m1\u001b[0m  \u001b[31m1\u001b[0m  0  0\n",
      "  0  \u001b[31m1\u001b[0m  0  0  \u001b[31m1\u001b[0m  0  0  0  \u001b[31m1\u001b[0m\n",
      "    0  0  0  0  \u001b[34m2\u001b[0m  0  \u001b[34m2\u001b[0m  0  0\n",
      "      0  0  0  \u001b[31m1\u001b[0m  0  \u001b[31m1\u001b[0m  0  0  0\n",
      "        0  0  \u001b[31m1\u001b[0m  0  \u001b[34m2\u001b[0m  \u001b[34m2\u001b[0m  \u001b[31m1\u001b[0m  0  \u001b[34m2\u001b[0m\n",
      "          0  \u001b[31m1\u001b[0m  \u001b[34m2\u001b[0m  \u001b[34m2\u001b[0m  0  \u001b[34m2\u001b[0m  0  \u001b[34m2\u001b[0m  0\n",
      "            \u001b[34m2\u001b[0m  \u001b[34m2\u001b[0m  \u001b[31m1\u001b[0m  0  0  \u001b[34m2\u001b[0m  \u001b[34m2\u001b[0m  0  0\n",
      "              \u001b[31m1\u001b[0m  0  \u001b[31m1\u001b[0m  0  \u001b[31m1\u001b[0m  0  0  0  \u001b[31m1\u001b[0m\n",
      "                0  \u001b[31m1\u001b[0m  0  0  \u001b[34m2\u001b[0m  0  \u001b[34m2\u001b[0m  0  0\n"
     ]
    }
   ],
   "source": [
    "game = res[1]\n",
    "print(f'Winner: Player {\"1\" if game.grid.check_win() == 1 else \"2\"}')\n",
    "game.grid.print_grid()"
   ]
  },
  {
   "cell_type": "markdown",
   "id": "b0d116ef-5331-495c-a6a2-ab22be4f0a55",
   "metadata": {
    "tags": []
   },
   "source": [
    "### 3.3) Player results"
   ]
  },
  {
   "cell_type": "markdown",
   "id": "b60b20b1-0b24-4283-9e55-a5d8a746b3d4",
   "metadata": {},
   "source": [
    "We tested the Minimax player in different scenarios:\n",
    "\n",
    "- First we wanted to check how the designed player performed against a random player. Here we clearly see that even with a search depth of 1, the Minimax player clearly outperformed the Random player.\n",
    "\n",
    "- Then we let two Minimax players fight against one another which led to a perfect tie.\n",
    "\n",
    "- Finally we tried to check whether increasing the search depth of one of the player led to him having an advantage, both as player1 and as player2. But this had the opposite effect, we see that the player looking ahead only one turn performs better than the one checking 2 turns ahead. My theory is that when looking 2 turns ahead, the player focusses too much on getting the other player to loose rather than actually winning."
   ]
  },
  {
   "cell_type": "markdown",
   "id": "5d190c23-8ad5-4264-8d12-08bdf65cba14",
   "metadata": {
    "tags": []
   },
   "source": [
    "## 4) Reinforcement learning"
   ]
  },
  {
   "cell_type": "markdown",
   "id": "9a753fc5-e28f-4443-800b-e02f4f59fed7",
   "metadata": {},
   "source": [
    "To start the reinforcement learning techniques, I reuse the technique we used in class to for a tic-tac-toe player."
   ]
  },
  {
   "cell_type": "markdown",
   "id": "cfa9bbfe-52be-4933-80ba-dce57c102a41",
   "metadata": {
    "tags": [],
    "toc-hr-collapsed": true
   },
   "source": [
    "### 4.1) TQ-learning Player"
   ]
  },
  {
   "cell_type": "markdown",
   "id": "e7edf779-0064-4a32-b7dc-3a299d7db2a0",
   "metadata": {
    "tags": []
   },
   "source": [
    "#### 4.1.1) Player definition"
   ]
  },
  {
   "cell_type": "code",
   "execution_count": 214,
   "id": "720dacea-15e0-4bca-b2c5-4c61a8e4876f",
   "metadata": {},
   "outputs": [],
   "source": [
    "WIN_VALUE = 1\n",
    "LOOSE_VALUE = -1\n",
    "\n",
    "class TQPlayer(Player):\n",
    "    def __init__(self, side, grid_size, alpha=0.9, gamma=0.95, q_init=0.6, epsilon=lambda t: 1/t):\n",
    "        super().__init__(side)\n",
    "        self.grid_size = grid_size\n",
    "        \n",
    "        self.q = {}\n",
    "        self.move_history = []\n",
    "        \n",
    "        self.t = 1\n",
    "        self.epsilon = epsilon\n",
    "        \n",
    "        self.learning_rate = alpha\n",
    "        self.value_discount = gamma\n",
    "        self.q_init_val = q_init\n",
    "        \n",
    "        \n",
    "    def start_game(self):\n",
    "        self.move_history = []\n",
    "        self.t = 1\n",
    "        \n",
    "    \n",
    "    def finalize(self, result):\n",
    "        # Check if win or loose\n",
    "        final_value = WIN_VALUE if result == self.side else LOOSE_VALUE\n",
    "        next_max = -1\n",
    "        \n",
    "        # Update q-table\n",
    "        while len(self.move_history) > 0:\n",
    "            (state, action) = self.move_history.pop(-1)\n",
    "            # Take Q-Table at state\n",
    "            qvals = self.get_q(state)\n",
    "            \n",
    "            # If current maximum is negative then set q-value at position h equal to reward\n",
    "            if next_max < 0:  # First time through the loop\n",
    "                qvals[action] = final_value\n",
    "            else:\n",
    "                # otherwise update the q-value as previously indicated \n",
    "                qvals[action] = ((1-self.learning_rate) * qvals[action]) + (self.learning_rate * self.value_discount * next_max)\n",
    "                \n",
    "            # Update max value as the max of the Q-table\n",
    "            next_max = max(qvals)\n",
    "\n",
    "    \n",
    "    def move(self, grid):\n",
    "        # Hash the current state of the grid\n",
    "        grid_hash = grid.hash_state(grid.state_array)\n",
    "        \n",
    "        if random.random() > self.epsilon(self.t):\n",
    "            # Do random move\n",
    "            move_tile = random.choice(grid.empty_tiles)\n",
    "            move = int((move_tile.y*grid.size)+move_tile.x)\n",
    "        else:\n",
    "            # Retrieve the q_values curresponding to the hashed current grid state\n",
    "            qvals = self.get_q(grid_hash)\n",
    "\n",
    "            # Loop from the highest q_values to find a valid move (an empty tile)\n",
    "            while True:\n",
    "                move = np.argmax(qvals)\n",
    "                move_tile = grid.tiles[move]\n",
    "\n",
    "                # if the move is legal, return it. \n",
    "                # Otherwise set the Q-value (for that move) in the Q-table as -1 \n",
    "                if move_tile.status == EMPTY:\n",
    "                    break\n",
    "                qvals[move] = -1.0\n",
    "            \n",
    "        # Make and record the move in the \n",
    "        self.move_history.append((grid_hash, move))\n",
    "        move_tile.status = self.side\n",
    "                \n",
    "        # Update t value to update epsilon\n",
    "        self.t += 1\n",
    "        \n",
    "    \n",
    "    def get_q(self, grid_hash):\n",
    "        if grid_hash not in self.q:\n",
    "            self.q[grid_hash] = np.ones(self.grid_size**2) * self.q_init_val\n",
    "        return self.q[grid_hash]\n",
    "        \n",
    "\n",
    "PLAYER_CLASSES['TQ'] = TQPlayer"
   ]
  },
  {
   "cell_type": "markdown",
   "id": "3f1d3156-06d1-44ab-96e1-88935b085496",
   "metadata": {
    "tags": []
   },
   "source": [
    "#### 4.1.2) Player testing"
   ]
  },
  {
   "cell_type": "code",
   "execution_count": 172,
   "id": "0769ef72-4bfa-44c0-81d9-d923a32ce820",
   "metadata": {},
   "outputs": [
    {
     "data": {
      "application/vnd.jupyter.widget-view+json": {
       "model_id": "5465b5ff98b94cb6a14332d3c100d1a3",
       "version_major": 2,
       "version_minor": 0
      },
      "text/plain": [
       "  0%|          | 0/1000 [00:00<?, ?game/s]"
      ]
     },
     "metadata": {},
     "output_type": "display_data"
    },
    {
     "name": "stdout",
     "output_type": "stream",
     "text": [
      "After 1000 games, we have:\n",
      "  - Player 1 wins: 684 (68.40%)\n",
      "  - Player 2 wins: 316 (31.60%)\n",
      "Average game time: 0.002s\n",
      "Average turn time: 0.0001s\n"
     ]
    },
    {
     "data": {
      "image/png": "[encoded data removed]",
      "text/plain": [
       "<Figure size 1296x432 with 1 Axes>"
      ]
     },
     "metadata": {
      "needs_background": "light"
     },
     "output_type": "display_data"
    }
   ],
   "source": [
    "num_games = 1000\n",
    "grid_size = 3\n",
    "\n",
    "p1 = TQPlayer(PLAYER1, grid_size=grid_size)\n",
    "p2 = RandomPlayer(PLAYER2)\n",
    "\n",
    "p1_counts, p2_counts, games, turn_times_list, game_times = play_n_games(p1, p2, num_games, grid_size=grid_size, suppress_game_tqdm=True, print_wins=True)"
   ]
  },
  {
   "cell_type": "code",
   "execution_count": 177,
   "id": "8c202f46-7b1a-4002-811d-0099e8e704aa",
   "metadata": {},
   "outputs": [
    {
     "data": {
      "image/png": "[encoded data removed]",
      "text/plain": [
       "<Figure size 1296x360 with 1 Axes>"
      ]
     },
     "metadata": {
      "needs_background": "light"
     },
     "output_type": "display_data"
    }
   ],
   "source": [
    "t = np.arange(1000)\n",
    "x = 1-(0.95 * np.exp(-5 * np.exp(-0.01*t)))\n",
    "\n",
    "plt.figure(figsize=(18,5))\n",
    "plt.plot(t, x)\n",
    "plt.xlabel('y')\n",
    "plt.ylabel('Random %')\n",
    "plt.show()"
   ]
  },
  {
   "cell_type": "code",
   "execution_count": 190,
   "id": "05f41ad0-f1c5-448c-b920-20294c77faeb",
   "metadata": {},
   "outputs": [
    {
     "data": {
      "application/vnd.jupyter.widget-view+json": {
       "model_id": "99e99df7eccf4327b1b666d809de6f74",
       "version_major": 2,
       "version_minor": 0
      },
      "text/plain": [
       "  0%|          | 0/1000 [00:00<?, ?game/s]"
      ]
     },
     "metadata": {},
     "output_type": "display_data"
    },
    {
     "name": "stdout",
     "output_type": "stream",
     "text": [
      "After 1000 games, we have:\n",
      "  - Player 1 wins: 679 (67.90%)\n",
      "  - Player 2 wins: 321 (32.10%)\n",
      "Average game time: 0.002s\n",
      "Average turn time: 0.0002s\n"
     ]
    },
    {
     "data": {
      "image/png": "[encoded data removed]",
      "text/plain": [
       "<Figure size 1296x432 with 1 Axes>"
      ]
     },
     "metadata": {
      "needs_background": "light"
     },
     "output_type": "display_data"
    }
   ],
   "source": [
    "'''\n",
    "With a better epsilon function\n",
    "'''\n",
    "num_games = 1000\n",
    "grid_size = 3\n",
    "\n",
    "p1 = TQPlayer(PLAYER1, grid_size=grid_size, epsilon=(lambda t: 1-(0.99 * np.exp(-5 * np.exp(-0.005*t)))))\n",
    "p2 = RandomPlayer(PLAYER2)\n",
    "\n",
    "p1_counts, p2_counts, games, turn_times_list, game_times = play_n_games(p1, p2, num_games, grid_size=grid_size, suppress_game_tqdm=True, print_wins=True)"
   ]
  },
  {
   "cell_type": "code",
   "execution_count": 170,
   "id": "99a6036f-d359-4306-89af-a3a578d79d01",
   "metadata": {},
   "outputs": [
    {
     "data": {
      "application/vnd.jupyter.widget-view+json": {
       "model_id": "35ea08a43f0b4699863ba3e4fe49fdd1",
       "version_major": 2,
       "version_minor": 0
      },
      "text/plain": [
       "  0%|          | 0/1000 [00:00<?, ?game/s]"
      ]
     },
     "metadata": {},
     "output_type": "display_data"
    },
    {
     "name": "stdout",
     "output_type": "stream",
     "text": [
      "After 1000 games, we have:\n",
      "  - Player 1 wins: 566 (56.60%)\n",
      "  - Player 2 wins: 434 (43.40%)\n",
      "Average game time: 0.004s\n",
      "Average turn time: 0.0002s\n"
     ]
    },
    {
     "data": {
      "image/png": "[encoded data removed]",
      "text/plain": [
       "<Figure size 1296x432 with 1 Axes>"
      ]
     },
     "metadata": {
      "needs_background": "light"
     },
     "output_type": "display_data"
    }
   ],
   "source": [
    "num_games = 1000\n",
    "grid_size = 5\n",
    "\n",
    "p1 = TQPlayer(PLAYER1, grid_size=grid_size, epsilon=(lambda t: 1-(0.95 * np.exp(-5 * np.exp(-0.01*t)))))\n",
    "p2 = RandomPlayer(PLAYER2)\n",
    "\n",
    "p1_counts, p2_counts, games, turn_times_list, game_times = play_n_games(p1, p2, num_games, grid_size=grid_size, suppress_game_tqdm=True, print_wins=True)"
   ]
  },
  {
   "cell_type": "code",
   "execution_count": 126,
   "id": "88643ea2-4ba5-420d-b260-3fa1bd8499d1",
   "metadata": {},
   "outputs": [
    {
     "data": {
      "application/vnd.jupyter.widget-view+json": {
       "model_id": "1193db869cfc4f348297dcf4b0f54461",
       "version_major": 2,
       "version_minor": 0
      },
      "text/plain": [
       "  0%|          | 0/1000 [00:00<?, ?game/s]"
      ]
     },
     "metadata": {},
     "output_type": "display_data"
    },
    {
     "name": "stdout",
     "output_type": "stream",
     "text": [
      "After 1000 games, we have:\n",
      "  - Player 1 wins: 550 (55.00%)\n",
      "  - Player 2 wins: 450 (45.00%)\n",
      "Average game time: 0.009s\n",
      "Average turn time: 0.0002s\n"
     ]
    },
    {
     "data": {
      "image/png": "[encoded data removed]",
      "text/plain": [
       "<Figure size 1296x432 with 1 Axes>"
      ]
     },
     "metadata": {
      "needs_background": "light"
     },
     "output_type": "display_data"
    }
   ],
   "source": [
    "num_games = 1000\n",
    "grid_size = 7\n",
    "\n",
    "p1 = TQPlayer(PLAYER1, grid_size=grid_size)\n",
    "p2 = RandomPlayer(PLAYER2)\n",
    "\n",
    "p1_counts, p2_counts, games, turn_times_list, game_times = play_n_games(p1, p2, num_games, grid_size=grid_size, suppress_game_tqdm=True, print_wins=True)"
   ]
  },
  {
   "cell_type": "markdown",
   "id": "2c626530-3b19-41a0-8a46-7ff3732e157b",
   "metadata": {
    "tags": []
   },
   "source": [
    "#### 4.1.3) Player results"
   ]
  },
  {
   "cell_type": "markdown",
   "id": "84a72a47-5000-4a43-9466-ddd766ba970a",
   "metadata": {},
   "source": [
    "We can see that the agent manages to perform well against a random oponent but only on a 3x3 board. Any attempts at bigger board didn't yield any satisfying results with the default parameters of Q-learning. We could attempt to improve those results by tuning the parameters for larger board but I would expect it to have diminishing returns as the board grows knowing it would need increasingly big q-table to perform well. This would come with an increased requirement for storage (due to the amound of state action pairs to remember) but also of time as exploring a game with this deep of a branching factor is infeasible. Another drawback of this approach is the fact it is unable to recognise local patterns (on a sub-grid for example)."
   ]
  },
  {
   "cell_type": "markdown",
   "id": "465fbb28-a699-44ba-ae0b-d335f5d07b03",
   "metadata": {
    "tags": [],
    "toc-hr-collapsed": true
   },
   "source": [
    "### 4.2) Deep Q-learning Player"
   ]
  },
  {
   "cell_type": "markdown",
   "id": "1d0b6fea-80d7-4ef6-9c25-125db73cd513",
   "metadata": {},
   "source": [
    "#### 4.2.1) Player definition"
   ]
  },
  {
   "cell_type": "code",
   "execution_count": 215,
   "id": "db0fb497-04da-4635-8c2a-be514f585995",
   "metadata": {},
   "outputs": [],
   "source": [
    "class DeepQPlayer(TQPlayer):\n",
    "    def __init__(self, side, grid_size, alpha=0.9, gamma=0.95, q_init=0.6, epsilon=lambda t: 1/t):\n",
    "        super().__init__(side, grid_size, alpha, gamma, q_init, epsilon)\n",
    "        \n",
    "        # Definition of the models\n",
    "        self.model = self.generate_model() # Trains every 4 game\n",
    "        self.target_model = self.generate_model() # Copies from model every 100 games\n",
    "        self.target_model.set_weights(self.model.get_weights())\n",
    "        \n",
    "        # Game counter\n",
    "        self.game_nb = 0\n",
    "        \n",
    "        \n",
    "    def generate_model(self) -> Model:\n",
    "        # Build a model\n",
    "        inputs = Input(shape=(self.grid_size, self.grid_size, 6))\n",
    "\n",
    "        # Layer 0\n",
    "        l0_3 = Conv2D(32, kernel_size=(3,3), padding='same')(inputs)\n",
    "        l0_5 = Conv2D(96, kernel_size=(5,5), padding='same')(inputs)\n",
    "        l0_t = concatenate([l0_3,l0_5])\n",
    "        l0 = LeakyReLU(alpha=0.1)(l0_t)\n",
    "\n",
    "        # Layer 1\n",
    "        l1_3 = Conv2D(64, kernel_size=(3,3), padding='same')(l0)\n",
    "        l1_5 = Conv2D(64, kernel_size=(5,5), padding='same')(l0)\n",
    "        l1_t = concatenate([l1_3,l1_5])\n",
    "        l1 = LeakyReLU(alpha=0.1)(l1_t)\n",
    "\n",
    "        # Layer 2\n",
    "        l2_3 = Conv2D(96, kernel_size=(3,3), padding='same')(l1)\n",
    "        l2_5 = Conv2D(32, kernel_size=(5,5), padding='same')(l1)\n",
    "        l2_t = concatenate([l2_3,l2_5])\n",
    "        l2 = LeakyReLU(alpha=0.1)(l2_t)\n",
    "\n",
    "        # Layer 3\n",
    "        l3_3 = Conv2D(112, kernel_size=(3,3), padding='same')(l2)\n",
    "        l3_5 = Conv2D(16, kernel_size=(5,5), padding='same')(l2)\n",
    "        l3_t = concatenate([l3_3,l3_5])\n",
    "        l3 = LeakyReLU(alpha=0.1)(l3_t)\n",
    "\n",
    "        # Layer 4\n",
    "        l4_3 = Conv2D(120, kernel_size=(3,3), padding='same')(l3)\n",
    "        l4_5 = Conv2D(8, kernel_size=(5,5), padding='same')(l3)\n",
    "        l4_t = concatenate([l4_3,l4_5])\n",
    "        l4 = LeakyReLU(alpha=0.1)(l4_t)\n",
    "\n",
    "        # Layer 5\n",
    "        l5_3 = Conv2D(124, kernel_size=(3,3), padding='same')(l4)\n",
    "        l5_5 = Conv2D(4, kernel_size=(5,5), padding='same')(l4)\n",
    "        l5_t = concatenate([l5_3,l5_5])\n",
    "        l5 = LeakyReLU(alpha=0.1)(l5_t)\n",
    "\n",
    "        # Layer 6\n",
    "        l6_3 = Conv2D(126, kernel_size=(3,3), padding='same')(l5)\n",
    "        l6_5 = Conv2D(2, kernel_size=(5,5), padding='same')(l5)\n",
    "        l6_t = concatenate([l6_3,l6_5])\n",
    "        l6 = LeakyReLU(alpha=0.1)(l6_t)\n",
    "\n",
    "        # Layer 7\n",
    "        l7_3 = Conv2D(128, kernel_size=(3,3), padding='same')(l6)\n",
    "        l7_5 = Conv2D(0, kernel_size=(5,5), padding='same')(l6)\n",
    "        l7_t = concatenate([l7_3,l7_5])\n",
    "        l7 = LeakyReLU(alpha=0.1)(l7_t)\n",
    "\n",
    "        # Dense layer\n",
    "        l8_f = Flatten()(l7)\n",
    "        outputs = Dense(self.grid_size**2, activation=sigmoid)(l8_f)\n",
    "\n",
    "        # Model\n",
    "        model = Model(inputs, outputs)\n",
    "        model.compile(optimizer='adam', loss='mean_absolute_error', metrics=['accuracy'])\n",
    "        \n",
    "        return model\n",
    "    \n",
    "        \n",
    "    def finalize(self, result):\n",
    "        self.game_nb += 1\n",
    "            \n",
    "        # Check if model is to be trained\n",
    "        if self.game_nb % 4 == 0:\n",
    "            self.train_model()\n",
    "        \n",
    "        # Check if model's weights have to be copied to target model\n",
    "        if self.game_nb % 100 == 0:\n",
    "            self.target_model.set_weights(self.model.get_weights())\n",
    "            \n",
    "        # Reset t\n",
    "        self.t = 1\n",
    "        \n",
    "        \n",
    "    def train_model(self):\n",
    "        if len(self.move_history) < 1000:\n",
    "            return\n",
    "        \n",
    "        batch_size = 128\n",
    "        \n",
    "        # Shuffle the experience to create nice input data for the training for the model\n",
    "        batch = random.sample(self.move_history, batch_size)\n",
    "        \n",
    "        # Get q arrays based on the states we have explored\n",
    "        current_states = np.array([exp[0] for exp in batch])\n",
    "        current_qs_list = self.model.predict(current_states)\n",
    "        \n",
    "        # Get q arrays for the new states (result of the action) based on the target model\n",
    "        new_states = np.array([exp[3] for exp in batch])\n",
    "        future_qs_list = self.target_model.predict(new_states)\n",
    "        \n",
    "        # Training data\n",
    "        x = []\n",
    "        y = []\n",
    "        \n",
    "        for i, (state, move, reward, new_state, done) in enumerate(batch):\n",
    "            if not done:\n",
    "                max_future_q = reward + discount_factor * np.max(future_qs_list[i])\n",
    "            else:\n",
    "                max_future_q = reward\n",
    "                \n",
    "            current_qs = current_qs_list[i]\n",
    "            current_qs[move] = (1 - self.learning_rate) * current_qs[move] + self.learning_rate * max_future_q\n",
    "\n",
    "            X.append(observation)\n",
    "            Y.append(current_qs)\n",
    "\n",
    "        self.model.fit(x,y, verbose=0, batch_size=batch_size)\n",
    "\n",
    "        \n",
    "    def move(self, grid:HexGrid):\n",
    "        # Save grid state channels before move\n",
    "        state_channels = grid.state_channels\n",
    "        \n",
    "        if random.random() > self.epsilon(self.t):\n",
    "            # Do random move\n",
    "            move_tile = random.choice(grid.empty_tiles)\n",
    "            move = int((move_tile.y*grid.size)+move_tile.x)\n",
    "        else:\n",
    "            # Retrieve the q-values for the current state\n",
    "            qvals = self.get_q(state_channels)\n",
    "\n",
    "            # Loop from the highest q_values to find a valid move (an empty tile)\n",
    "            while True:\n",
    "                move = np.argmax(qvals)\n",
    "                move_tile = grid.tiles[move]\n",
    "\n",
    "                # if the move is legal, return it.\n",
    "                # Otherwise set the Q-value (for that move) in the Q-table as -1 \n",
    "                if move_tile.status == EMPTY:\n",
    "                    break\n",
    "                qvals[move] = -1.0\n",
    "            \n",
    "        # Make and record the move in the move history list for this game\n",
    "        move_tile.status = self.side\n",
    "        new_state_channels = grid.state_channels\n",
    "        \n",
    "        reward = WIN_VALUE if grid.check_win_player(self.side) else -0.01 # Move discount\n",
    "        done = grid.check_win_player(self.side)\n",
    "\n",
    "        self.move_history.append((state_channels, move, reward, new_state_channels, done))\n",
    "                \n",
    "        # Update t value to update epsilon\n",
    "        self.t += 1\n",
    "    \n",
    "        \n",
    "    def get_q(self, state_channels):\n",
    "        return self.model.predict(np.array([state_channels]))[0]\n",
    "        \n",
    "\n",
    "PLAYER_CLASSES['Deep-Q'] = DeepQPlayer"
   ]
  },
  {
   "cell_type": "markdown",
   "id": "c7d12a94-f444-4779-ba89-c7a0c7f700cc",
   "metadata": {},
   "source": [
    "#### 4.2.2) Player testing"
   ]
  },
  {
   "cell_type": "code",
   "execution_count": 209,
   "id": "8a73c49e-442e-41b9-8830-bd15f2eebaee",
   "metadata": {},
   "outputs": [
    {
     "data": {
      "application/vnd.jupyter.widget-view+json": {
       "model_id": "cace6dd54d4a4d5e839754f307c98a72",
       "version_major": 2,
       "version_minor": 0
      },
      "text/plain": [
       "  0%|          | 0/1000 [00:00<?, ?game/s]"
      ]
     },
     "metadata": {},
     "output_type": "display_data"
    },
    {
     "name": "stdout",
     "output_type": "stream",
     "text": [
      "After 1000 games, we have:\n",
      "  - Player 1 wins: 674 (67.40%)\n",
      "  - Player 2 wins: 326 (32.60%)\n",
      "Average game time: 0.005s\n",
      "Average turn time: 0.0006s\n"
     ]
    },
    {
     "data": {
      "image/png": "[encoded data removed]",
      "text/plain": [
       "<Figure size 1296x432 with 1 Axes>"
      ]
     },
     "metadata": {
      "needs_background": "light"
     },
     "output_type": "display_data"
    }
   ],
   "source": [
    "num_games = 1000\n",
    "grid_size = 3\n",
    "\n",
    "p1 = DeepQPlayer(PLAYER1, grid_size=grid_size)\n",
    "p2 = RandomPlayer(PLAYER2)\n",
    "\n",
    "p1_counts, p2_counts, games, turn_times_list, game_times = play_n_games(p1, p2, num_games, grid_size=grid_size, suppress_game_tqdm=True, print_wins=True)"
   ]
  },
  {
   "cell_type": "code",
   "execution_count": 224,
   "id": "e60574d1-161d-4d9f-89f9-d0e759957268",
   "metadata": {},
   "outputs": [
    {
     "data": {
      "application/vnd.jupyter.widget-view+json": {
       "model_id": "60f2fc6674044cca99fb6978a9f0d495",
       "version_major": 2,
       "version_minor": 0
      },
      "text/plain": [
       "  0%|          | 0/10000 [00:00<?, ?game/s]"
      ]
     },
     "metadata": {},
     "output_type": "display_data"
    },
    {
     "name": "stdout",
     "output_type": "stream",
     "text": [
      "After 10000 games, we have:\n",
      "  - Player 1 wins: 5259 (52.59%)\n",
      "  - Player 2 wins: 4741 (47.41%)\n",
      "Average game time: 0.09s\n",
      "Average turn time: 0.0008s\n"
     ]
    },
    {
     "data": {
      "image/png": "[encoded data removed]",
      "text/plain": [
       "<Figure size 1296x432 with 1 Axes>"
      ]
     },
     "metadata": {
      "needs_background": "light"
     },
     "output_type": "display_data"
    }
   ],
   "source": [
    "num_games = 10000\n",
    "grid_size = 11\n",
    "\n",
    "p1 = DeepQPlayer(PLAYER1, grid_size=grid_size, epsilon=lambda t: 0.01)\n",
    "p2 = RandomPlayer(PLAYER2)\n",
    "\n",
    "p1_counts, p2_counts, games, turn_times_list, game_times = play_n_games(p1, p2, num_games, grid_size=grid_size, suppress_game_tqdm=True, print_wins=True)"
   ]
  },
  {
   "cell_type": "markdown",
   "id": "b37c39f9-4d54-4a70-9a25-246bf24bf990",
   "metadata": {},
   "source": [
    "#### 4.2.3) Player Results"
   ]
  },
  {
   "cell_type": "markdown",
   "id": "d7d74e90-0533-4d4e-94e7-a44218074eed",
   "metadata": {},
   "source": [
    "From running this player on a smaller grid, we can see that it works. Now, for it to work on a larger grid, we both need time and adequate training. In my test, we can see that it manages to perform slightly better than on pure average (basing this on the fact a random player playing in 1st position wins between 50 and 52 percent of time) as this player gets closer to a 53% average win."
   ]
  },
  {
   "cell_type": "markdown",
   "id": "580f28c2-0964-45f3-bcab-7272c07d2094",
   "metadata": {
    "tags": []
   },
   "source": [
    "## 5) Result analysis and conclusions"
   ]
  },
  {
   "cell_type": "markdown",
   "id": "c452e496-2e60-4d44-8fae-6ebbd626f260",
   "metadata": {},
   "source": [
    "In this project, I managed to successfully build a minimax player, a TQ-learning player and Deep-Q learning player applied to the game of Hex. \n",
    "\n",
    "The most successful approach I managed to get with this game is the Minimax player with a search depth of 1. This performed the best as it rewards immediate best actions. Something that this approach would be lacking is the learning of strategies and counters to opponents actions. This is something that can only be provided by reinforcement learning. The search space being so immense, the only feasible option is to go for deep learning. This would allow for patterns to be learned and surpass the performance of minimax. Although a working implementation of Deep-Q learning was built, it would need a way longer training time to reach this goal.\n",
    "\n",
    "Overall, I am happy with the implementation so far and it is a subject I would be willing to keep on exploring further in the future."
   ]
  },
  {
   "cell_type": "markdown",
   "id": "469e49d9-b8ae-40c9-b903-663590a8e313",
   "metadata": {
    "tags": []
   },
   "source": [
    "## 6) A bit of fun (Game UI)"
   ]
  },
  {
   "cell_type": "markdown",
   "id": "00bfb1e7-2830-4fe6-bad0-eba245190ddd",
   "metadata": {
    "tags": []
   },
   "source": [
    "### 6.1) Classes"
   ]
  },
  {
   "cell_type": "code",
   "execution_count": null,
   "id": "c0abc31c-210a-4f72-a70a-5c1bf12d3bbb",
   "metadata": {},
   "outputs": [],
   "source": [
    "class HexaCanvas(Canvas):\n",
    "    \"\"\" A canvas that provides a create-hexagone method \"\"\"\n",
    "    def __init__(self, master, hex_size, *args, **kwargs):\n",
    "        Canvas.__init__(self, master, *args, **kwargs)\n",
    "        self.hex_size = hex_size\n",
    "\n",
    "\n",
    "    def create_hexagone(self, x, y, color = \"black\", fill=\"grey\", color1=None, color2=None, color3=None, color4=None, color5=None, color6=None):\n",
    "        \"\"\" \n",
    "        Compute coordinates of 6 points relative to a center position.\n",
    "        Point are numbered following this schema :\n",
    "\n",
    "        Points in euclidiean grid:  \n",
    "                    6\n",
    "\n",
    "                5       1\n",
    "                    .\n",
    "                4       2\n",
    "\n",
    "                    3\n",
    "\n",
    "        Each color is applied to the side that link the vertex with same number to its following.\n",
    "        Ex : color 1 is applied on side (vertex1, vertex2)\n",
    "\n",
    "        Take care that tkinter ordinate axes is inverted to the standard euclidian ones.\n",
    "        Point on the screen will be horizontally mirrored.\n",
    "        Displayed points:\n",
    "\n",
    "                    3\n",
    "              color3/      \\color2      \n",
    "                4       2\n",
    "            color4|     |color1\n",
    "                5       1\n",
    "              color6\\      /color6\n",
    "                    6\n",
    "\n",
    "        \"\"\"\n",
    "        size = self.hex_size\n",
    "        dx = (size**2 - (size/2)**2)**0.5\n",
    "\n",
    "        point1 = (x+dx, y+size/2)\n",
    "        point2 = (x+dx, y-size/2)\n",
    "        point3 = (x   , y-size  )\n",
    "        point4 = (x-dx, y-size/2)\n",
    "        point5 = (x-dx, y+size/2)\n",
    "        point6 = (x   , y+size  )\n",
    "\n",
    "        #this setting allow to specify a different color for each side.\n",
    "        if color1 == None:\n",
    "            color1 = color\n",
    "        if color2 == None:\n",
    "            color2 = color\n",
    "        if color3 == None:\n",
    "            color3 = color\n",
    "        if color4 == None:\n",
    "            color4 = color\n",
    "        if color5 == None:\n",
    "            color5 = color\n",
    "        if color6 == None:\n",
    "            color6 = color\n",
    "        \n",
    "        # Make bold if a different color than default is asked (ie for the borders)\n",
    "        self.create_line(point1, point2, fill=color1, width=2 + (3 if color1 != color else 0))\n",
    "        self.create_line(point2, point3, fill=color2, width=2 + (3 if color2 != color else 0))\n",
    "        self.create_line(point3, point4, fill=color3, width=2 + (3 if color3 != color else 0))\n",
    "        self.create_line(point4, point5, fill=color4, width=2 + (3 if color4 != color else 0))\n",
    "        self.create_line(point5, point6, fill=color5, width=2 + (3 if color5 != color else 0))\n",
    "        self.create_line(point6, point1, fill=color6, width=2 + (3 if color6 != color else 0))\n",
    "\n",
    "        if fill != None:\n",
    "            return self.create_polygon(point1, point2, point3, point4, point5, point6, fill=fill)"
   ]
  },
  {
   "cell_type": "code",
   "execution_count": null,
   "id": "c27bb1b0-e537-4399-b77a-8a40b7f32bc0",
   "metadata": {},
   "outputs": [],
   "source": [
    "class HexGridCanvas(HexaCanvas):\n",
    "    def __init__(self, master, hex_grid:HexGrid, scale, pad=10):\n",
    "        # Variable setting\n",
    "        self.master = master\n",
    "        self.hex_grid = hex_grid\n",
    "        \n",
    "        # Field dimentions and definition\n",
    "        dx     = (scale**2 - (scale/2.0)**2)**0.5\n",
    "        width  = 2*dx*self.hex_grid.size + (self.hex_grid.size-1)*dx + 2*pad\n",
    "        height = 1.5*scale*self.hex_grid.size + 0.5*scale + 2*pad\n",
    "        HexaCanvas.__init__(self, master, hex_size=scale, background='white', width=width, height=height)\n",
    "\n",
    "        # Definition of the hexes\n",
    "        self.tile_ids = []\n",
    "        self.tile_dict = {}\n",
    "        for tile in self.hex_grid.tiles:\n",
    "            color_args = {}\n",
    "            if tile.x == 0:\n",
    "                color_args['color4'] = TILE_COLORS[PLAYER2]\n",
    "                color_args['color5'] = TILE_COLORS[PLAYER2]\n",
    "            if tile.x == self.hex_grid.size-1:\n",
    "                color_args['color1'] = TILE_COLORS[PLAYER2]\n",
    "                color_args['color2'] = TILE_COLORS[PLAYER2]\n",
    "            if tile.y == 0:\n",
    "                color_args['color2'] = TILE_COLORS[PLAYER1]\n",
    "                color_args['color3'] = TILE_COLORS[PLAYER1]\n",
    "            if tile.y == self.hex_grid.size-1:\n",
    "                color_args['color5'] = TILE_COLORS[PLAYER1]\n",
    "                color_args['color6'] = TILE_COLORS[PLAYER1]\n",
    "\n",
    "            pix_x = dx + 2*dx*tile.x + tile.y*dx + pad\n",
    "            pix_y = scale + tile.y*1.5*scale + pad\n",
    "\n",
    "            tile_id = self.create_hexagone(pix_x, pix_y, fill=TILE_COLORS[EMPTY], **color_args)\n",
    "            self.tile_ids.append(tile_id)\n",
    "            self.tile_dict[tile_id] = tile\n",
    "                \n",
    "                \n",
    "    def get_tile_id(self, x, y):\n",
    "        return self.tile_ids[int((y*self.hex_grid.size)+x)]\n",
    "    \n",
    "    def get_tile(self, tile_id):\n",
    "        return self.tile_dict[tile_id]\n",
    "    \n",
    "    \n",
    "    def set_tile_color(self, x, y, color):\n",
    "        self.itemconfig(self.get_tile_id(x,y), fill=color)\n",
    "        \n",
    "    def set_tile_id_color(self, tile_id, color):\n",
    "        self.itemconfig(tile_id, fill=color)"
   ]
  },
  {
   "cell_type": "code",
   "execution_count": null,
   "id": "47a57806-8e95-465c-b656-271f862c2e41",
   "metadata": {},
   "outputs": [],
   "source": [
    "class HexGameUI(Tk):\n",
    "    def __init__(self, tick_speed=100, game:HexGame=None):\n",
    "        super().__init__()\n",
    "        \n",
    "        # Variables\n",
    "        self.tick_speed = tick_speed\n",
    "        self.game = game\n",
    "        \n",
    "        # Frames and panes\n",
    "        self.frame = None\n",
    "        self.bottom_pane = None\n",
    "        self.side_pane = None\n",
    "        \n",
    "        self.wm_title('Project - HexGame')\n",
    "        self.iconbitmap('hex.ico')\n",
    "        \n",
    "        self.setup_menu_frame()\n",
    "        self.mainloop()\n",
    "        \n",
    "        \n",
    "    def setup_menu_frame(self):\n",
    "        # If frame exists destroy it first\n",
    "        if self.frame:\n",
    "            self.frame.destroy()\n",
    "        \n",
    "        # State variables\n",
    "        self.frame = Frame(self)\n",
    "        \n",
    "        # Bottom pane config\n",
    "        if self.bottom_pane:\n",
    "            self.bottom_pane.destroy()\n",
    "        self.bottom_pane = Frame(self.frame)\n",
    "        self.bottom_pane.grid(row=0, column=0)\n",
    "        \n",
    "        Button(self.bottom_pane, text='Start Game', command=self.retrieve_game_configs).grid(row=0, column=0)\n",
    "        \n",
    "        # Side pane config\n",
    "        if self.side_pane:\n",
    "            self.side_pane.destroy()\n",
    "        self.side_pane = Frame(self.frame)\n",
    "        self.side_pane.grid(row=0, column=1, rowspan=2)\n",
    "        \n",
    "        Label(self.side_pane, text='Game config').grid(row=0, column=0, columnspan=2)\n",
    "        \n",
    "        Label(self.side_pane, text='Size').grid(row=1, column=0)\n",
    "        self.game_size_choice = Entry(self.side_pane)\n",
    "        self.game_size_choice.insert(10, 11)\n",
    "        self.game_size_choice.grid(row=1, column=1)\n",
    "        \n",
    "        Label(self.side_pane, text='Player 1', fg=TILE_COLORS[PLAYER1]).grid(row=2, column=0)\n",
    "        self.player1_choice = StringVar(self.side_pane)\n",
    "        self.player1_choice.set(list(PLAYER_CLASSES.keys())[0])\n",
    "        OptionMenu(self.side_pane, self.player1_choice, *list(PLAYER_CLASSES.keys())).grid(row=2, column=1)\n",
    "        \n",
    "        Label(self.side_pane, text='Player 2', fg=TILE_COLORS[PLAYER2]).grid(row=3, column=0)\n",
    "        self.player2_choice = StringVar(self.side_pane)\n",
    "        self.player2_choice.set(list(PLAYER_CLASSES.keys())[0])\n",
    "        OptionMenu(self.side_pane, self.player2_choice, *list(PLAYER_CLASSES.keys())).grid(row=3, column=1)\n",
    "        \n",
    "        self.frame.pack()\n",
    "        \n",
    "\n",
    "    def retrieve_game_configs(self):\n",
    "        self.player1 = PLAYER_CLASSES[self.player1_choice.get()](PLAYER1)\n",
    "        self.player2 = PLAYER_CLASSES[self.player2_choice.get()](PLAYER2)\n",
    "        self.game_size = int(self.game_size_choice.get())\n",
    "        \n",
    "        self.generate_game()\n",
    "        \n",
    "        \n",
    "    def generate_game(self):\n",
    "        self.game = HexGame(player1=self.player1,\n",
    "                            player2=self.player2,\n",
    "                            grid_size=self.game_size)\n",
    "        self.start_game()\n",
    "        \n",
    "        \n",
    "    def start_game(self):\n",
    "        assert self.game\n",
    "        \n",
    "        # Game canvas setup\n",
    "        self.game_canvas = HexGridCanvas(self.frame, self.game.grid, scale=25)\n",
    "        self.game_canvas.grid(row=0, column=0)\n",
    "        \n",
    "        self.game.status = STARTED\n",
    "        \n",
    "        # Link hexes to move action\n",
    "        for tile_id in self.game_canvas.tile_ids:\n",
    "            self.game_canvas.tag_bind(tile_id, '<Enter>', self.toggle_highlight)\n",
    "            self.game_canvas.tag_bind(tile_id, '<Leave>', self.toggle_highlight)\n",
    "            self.game_canvas.tag_bind(tile_id, '<ButtonPress-1>', self.tile_click)\n",
    "        \n",
    "        # Bottom pane controls config\n",
    "        if self.bottom_pane:\n",
    "            self.bottom_pane.destroy()\n",
    "        self.bottom_pane = Frame(self.frame)\n",
    "        self.bottom_pane.grid(row=1, column=0)\n",
    "        \n",
    "        Button(self.bottom_pane, text='Pause Game', command=self.pause_toggle).grid(row=0, column=0)\n",
    "        Button(self.bottom_pane, text='Reset Game', command=self.reset_confirmation).grid(row=0, column=1)\n",
    "        Button(self.bottom_pane, text='Back to menu', command=self.menu_confirmation).grid(row=0, column=2)\n",
    "\n",
    "        # Side pane config\n",
    "        if self.side_pane:\n",
    "            self.side_pane.destroy()\n",
    "        self.side_pane = Frame(self.frame)\n",
    "        self.side_pane.grid(row=0, column=1, rowspan=2)\n",
    "        \n",
    "        Label(self.side_pane, text='Active player:').grid(row=1, column=0)\n",
    "        active_player_nb = self.game.active_player_nb\n",
    "        self.active_player_lbl = Label(self.side_pane, text=f'Player {active_player_nb}', fg=TILE_COLORS[active_player_nb])\n",
    "        self.active_player_lbl.grid(row=1, column=1)\n",
    "        \n",
    "        Label(self.side_pane, text='Game speed').grid(row=2, column=0)\n",
    "        self.game_speed_choice = StringVar(self.side_pane)\n",
    "        self.game_speed_choice.set(list(GAME_SPEEDS.keys())[1]) # Default is Normal speed\n",
    "        OptionMenu(self.side_pane, self.game_speed_choice, *list(GAME_SPEEDS.keys())).grid(row=2, column=1)\n",
    "        \n",
    "        # Start game loop\n",
    "        self.game_step()\n",
    "        \n",
    "        \n",
    "    def finish_game(self, winner):\n",
    "        self.game.status = FINISHED\n",
    "        popup = Tk()\n",
    "        popup.wm_title('Game done!')\n",
    "        label = Label(popup, text=f'Player {winner} won!', fg=TILE_COLORS[winner])\n",
    "        label.pack(side=\"top\", fill=\"x\", pady=10)\n",
    "        B1 = Button(popup, text=\"Okay\", command = popup.destroy)\n",
    "        B1.pack()\n",
    "        popup.mainloop()\n",
    "                \n",
    "        \n",
    "    def pause_toggle(self):\n",
    "        if self.game.status == STARTED:\n",
    "            self.game.status = STOPPED\n",
    "        if self.game.status == STOPPED:\n",
    "            self.game.status = STARTED\n",
    "        \n",
    "        \n",
    "    def reset_confirmation(self):\n",
    "        answer = askyesno(title='Reset confirmation', message='Are you sure that you want to reset?')\n",
    "        if answer:\n",
    "            self.generate_game()\n",
    "            \n",
    "            \n",
    "    def menu_confirmation(self):\n",
    "        answer = askyesno(title='Back to menu confirmation', message='Are you sure that you want to go back to menu?')\n",
    "        if answer:\n",
    "            self.setup_menu_frame()\n",
    "    \n",
    "    \n",
    "    def game_step(self):\n",
    "        if self.game.status == STARTED:\n",
    "            if isinstance(self.game.active_player, ManualPlayer):\n",
    "                pass\n",
    "            else:\n",
    "                self.game.active_player.move(self.game.grid)\n",
    "        \n",
    "                # Check for victory and finalize game\n",
    "                if self.game.grid.check_win_player(self.game.active_player_nb):\n",
    "                    self.finish_game(self.game.active_player_nb)\n",
    "                    \n",
    "                self.switch_player()\n",
    "\n",
    "        # Update tickspeed\n",
    "        self.tick_speed = GAME_SPEEDS[self.game_speed_choice.get()]\n",
    "            \n",
    "        # Set trigger for next iteration\n",
    "        self.after(self.tick_speed, self.game_step)\n",
    "    \n",
    "\n",
    "    def tile_click(self, event):\n",
    "        if self.game.status == STARTED and isinstance(self.game.active_player, ManualPlayer):\n",
    "            tile_id = event.widget.find_withtag('current')[0]\n",
    "            tile = self.game_canvas.get_tile(tile_id)\n",
    "            \n",
    "            if tile.status not in [PLAYER1, PLAYER2]:\n",
    "                # Set tile status\n",
    "                self.game_canvas.get_tile(tile_id).status = self.game.active_player_nb\n",
    "                \n",
    "                # Increase turn_number\n",
    "                self.game.grid.turn_number += 1\n",
    "\n",
    "                # Adapt UI color\n",
    "                self.game_canvas.set_tile_id_color(tile_id, TILE_COLORS[self.game.active_player.side])\n",
    "                \n",
    "                # Check for victory and finalize game\n",
    "                if self.game.grid.check_win_player(self.game.active_player_nb):\n",
    "                    self.finish_game(self.game.active_player_nb)\n",
    "\n",
    "                self.switch_player()\n",
    "        \n",
    "\n",
    "    def toggle_highlight(self, event):\n",
    "        if self.game.status == STARTED and isinstance(self.game.active_player, ManualPlayer):\n",
    "            # Get tile\n",
    "            tile_id = event.widget.find_withtag('current')[0]\n",
    "            tile = self.game_canvas.get_tile(tile_id)\n",
    "            \n",
    "            # Change tile status and UI color\n",
    "            if tile.status == EMPTY:\n",
    "                tile.status = HOVERED\n",
    "                self.game_canvas.set_tile_id_color(tile_id, TILE_COLORS[HOVERED])\n",
    "            elif tile.status == HOVERED:\n",
    "                tile.status = EMPTY\n",
    "                self.game_canvas.set_tile_id_color(tile_id, TILE_COLORS[EMPTY])\n",
    "\n",
    "\n",
    "    def switch_player(self):\n",
    "        self.game.switch_player()\n",
    "        \n",
    "        # Adapt label\n",
    "        active_player_nb = self.game.active_player_nb\n",
    "        self.active_player_lbl.config(text=f'Player {active_player_nb}', fg=TILE_COLORS[active_player_nb])"
   ]
  },
  {
   "cell_type": "markdown",
   "id": "bb85fe31-5c25-45a7-8a3a-9fb0d52bd237",
   "metadata": {},
   "source": [
    "### 6.2) Start UI"
   ]
  },
  {
   "cell_type": "code",
   "execution_count": 2,
   "id": "58b55e55-7735-440d-8bfd-70aeba91ba2e",
   "metadata": {},
   "outputs": [
    {
     "data": {
      "text/plain": [
       "'\\nCommand to start the UI\\n'"
      ]
     },
     "execution_count": 2,
     "metadata": {},
     "output_type": "execute_result"
    }
   ],
   "source": [
    "'''\n",
    "Command to start the UI\n",
    "'''\n",
    "# HexGameUI()"
   ]
  },
  {
   "cell_type": "markdown",
   "id": "a6b022e4-2012-4542-8fa0-3dc535efb1ee",
   "metadata": {
    "tags": []
   },
   "source": [
    "## 7) Sources"
   ]
  },
  {
   "cell_type": "markdown",
   "id": "f2951b32-da09-426c-84e1-74b5aaed8132",
   "metadata": {},
   "source": [
    "- Hexagon knowledge: https://www.redblobgames.com/grids/hexagons\n",
    "- Path finding (win checking and shortest path): https://www.redblobgames.com/pathfinding/a-star/introduction.html\n",
    "\n",
    "---\n",
    "\n",
    "- Minimax AI (with Dijstra heuristic): https://gsurma.medium.com/hex-creating-intelligent-opponents-with-minimax-driven-ai-part-1-%CE%B1-%CE%B2-pruning-cc1df850e5bd\n",
    "- Alpha-beta pruning: https://www.geeksforgeeks.org/minimax-algorithm-in-game-theory-set-4-alpha-beta-pruning/\n",
    "- LPA*: <a href=\"https://en.wikipedia.org/wiki/Lifelong_Planning_A*\">https://en.wikipedia.org/wiki/Lifelong_Planning_A*</a>\n",
    "- Minimax for hex vs monte carlo: http://web.stanford.edu/class/archive/cs/cs221/cs221.1192/2018/restricted/posters/eliew/poster.pdf\n",
    "- Improving minimax: https://levelup.gitconnected.com/improving-minimax-performance-fc82bc337dfd\n",
    "\n",
    "---\n",
    "\n",
    "- Reinforcement learning applied to games: https://link.springer.com/article/10.1007/s42452-020-2560-3\n",
    "- Deep reinforcement learning: https://www.mlq.ai/deep-reinforcement-learning-q-learning/\n",
    "- Deep-Q learning principles: https://towardsdatascience.com/deep-q-learning-tutorial-mindqn-2a4c855abffc#:~:text=Critically%2C%20Deep%20Q%2DLearning%20replaces,process%20uses%202%20neural%20networks.\n",
    "- Deep-Q learning settlers of catan: https://akrishna77.github.io/QSettlers/\n",
    "- Deep-Q learning tutorial: https://pythonprogramming.net/training-deep-q-learning-dqn-reinforcement-learning-python-tutorial/?completed=/deep-q-learning-dqn-reinforcement-learning-python-tutorial/\n",
    "- Deep-Q learning tic-tac-toe: https://towardsdatascience.com/reinforcement-learning-and-deep-reinforcement-learning-with-tic-tac-toe-588d09c41dda\n",
    "- Hexagon kernel CCN layer: https://www.youtube.com/watch?v=pImJayaXmCM\n",
    "- Neurohex: https://www.researchgate.net/publication/301648362_Neurohex_A_Deep_Q-learning_Hex_Agent"
   ]
  }
 ],
 "metadata": {
  "kernelspec": {
   "display_name": "Python 3 (ipykernel)",
   "language": "python",
   "name": "python3"
  },
  "language_info": {
   "codemirror_mode": {
    "name": "ipython",
    "version": 3
   },
   "file_extension": ".py",
   "mimetype": "text/x-python",
   "name": "python",
   "nbconvert_exporter": "python",
   "pygments_lexer": "ipython3",
   "version": "3.11.4"
  }
 },
 "nbformat": 4,
 "nbformat_minor": 5
}
